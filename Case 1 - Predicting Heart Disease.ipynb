{
 "cells": [
  {
   "cell_type": "markdown",
   "metadata": {},
   "source": [
    "<h1>Case1 - Heart Disease Classification </h1>\n",
    "\n",
    "4.2.2018 (last modified)<br>\n",
    "Tom Thiel<br>\n",
    "Metropolia UAS<br>"
   ]
  },
  {
   "cell_type": "markdown",
   "metadata": {},
   "source": [
    "## 1. Objectives"
   ]
  },
  {
   "cell_type": "markdown",
   "metadata": {},
   "source": [
    "For this assignement we are using <a href=\"https://archive.ics.uci.edu/ml/machine-learning-databases/heart-disease/\">directory</a> containing 4 datasets concerning heart disease diagnosis.\n",
    "\n",
    "The objective of this assignment is to traing neural network to predict finding of heart disease from clinical data. The datasets have 14 attributes. 13 of these attributes containing data to make the diagnosis. The last attribute is the diagnosis made by a doctor. The goal is to use these 13 values and traing an neural network to predict if person has or doesn't have heart disease. This is a binary classification problem. \n",
    "\n",
    "The dataset are first loaded and preprocessed and then the model is trained and evaluated. \n",
    "\n",
    "Preprosessing is needed to get the data ready for training. The data is first loaded and then inserted into dataframes using Pandas library. The the missing values need to be replaced and the datasets needs to be scaled using Numpy. The modeling and training is done with sklearn and Keras.io. Evaluating the training results visually is done plotting using matplotlib library.\n"
   ]
  },
  {
   "cell_type": "markdown",
   "metadata": {},
   "source": [
    "## 2. Required libraries\n",
    "\n",
    "\n"
   ]
  },
  {
   "cell_type": "markdown",
   "metadata": {},
   "source": [
    "We will start off by importing all of the classes and functions we will need.\n",
    "\n",
    "<b>Numpy:</b> Adds Python support for large, multi-dimensional arrays and matrices.   \n",
    "<b>Pandas:</b> Offers data structures and operations for manipulating numerical tables and time series.   \n",
    "<b>Matplotlib:</b> For plotting.   \n",
    "<b>Scikit-learn:</b> Data modeling tool for regression, classification and clustering problems.  \n",
    "<b>Keras:</b> Neural Network API for TensorFlow.    \n",
    "<b>IPython.display</b> To display variables on markdown cells"
   ]
  },
  {
   "cell_type": "code",
   "execution_count": 346,
   "metadata": {},
   "outputs": [],
   "source": [
    "#Import libraries\n",
    "import numpy as np\n",
    "import matplotlib.pyplot as plt\n",
    "import pandas as pd\n",
    "from IPython.display import Markdown as md\n",
    "\n",
    "import sklearn as sk\n",
    "from sklearn import preprocessing\n",
    "from sklearn.model_selection import train_test_split\n",
    "\n",
    "import keras\n",
    "from keras.models import Sequential\n",
    "from keras.layers import Dense\n",
    "from keras import models\n",
    "from keras import layers\n",
    "\n",
    "%matplotlib inline"
   ]
  },
  {
   "cell_type": "code",
   "execution_count": 256,
   "metadata": {},
   "outputs": [
    {
     "name": "stdout",
     "output_type": "stream",
     "text": [
      "numpy 1.12.1\n"
     ]
    }
   ],
   "source": [
    "print('numpy', np.__version__)"
   ]
  },
  {
   "cell_type": "markdown",
   "metadata": {},
   "source": [
    "## 3. Data description and preprocessing\n",
    "\n",
    "There are 4 datasets: Cleveland, Hungarian, Swizerland and Longbeach (Vancouver).\n",
    "\n",
    "Description of the 14 attributes used in this assignement:\n",
    "   <br>\n",
    "      -- 1. #3  (age)    \n",
    "      -- 2. #4  (sex) 0 = female; 1 = male       \n",
    "      -- 3. #9  (cp) - Chest pain type     \n",
    "      -- 4. #10 (trestbps) - Resting blood pressure in mmHg   \n",
    "      -- 5. #12 (chol) - Serum cholesterol in mg/dl   \n",
    "      -- 6. #16 (fbs) - Fasting blood sugar        \n",
    "      -- 7. #19 (restecg) - Rest ECG   \n",
    "      -- 8. #32 (thalach) - Maximum HR   \n",
    "      -- 9. #38 (exang) - Excrecise induced angina   \n",
    "      -- 10. #40 (oldpeak) - ECG    \n",
    "      -- 11. #41 (slope) - Slopetype in ECG ST segment    \n",
    "      -- 12. #44 (ca) - Angiography     \n",
    "      -- 13. #51 (thal)      \n",
    "      -- 14. #58 (num)       (the predicted attribute)"
   ]
  },
  {
   "cell_type": "code",
   "execution_count": 257,
   "metadata": {},
   "outputs": [
    {
     "data": {
      "text/html": [
       "<div>\n",
       "<style>\n",
       "    .dataframe thead tr:only-child th {\n",
       "        text-align: right;\n",
       "    }\n",
       "\n",
       "    .dataframe thead th {\n",
       "        text-align: left;\n",
       "    }\n",
       "\n",
       "    .dataframe tbody tr th {\n",
       "        vertical-align: top;\n",
       "    }\n",
       "</style>\n",
       "<table border=\"1\" class=\"dataframe\">\n",
       "  <thead>\n",
       "    <tr style=\"text-align: right;\">\n",
       "      <th></th>\n",
       "      <th>age</th>\n",
       "      <th>sex</th>\n",
       "      <th>cp</th>\n",
       "      <th>tresbps</th>\n",
       "      <th>chol</th>\n",
       "      <th>fbs</th>\n",
       "      <th>restecg</th>\n",
       "      <th>thalach</th>\n",
       "      <th>exang</th>\n",
       "      <th>oldpeak</th>\n",
       "      <th>slope</th>\n",
       "      <th>ca</th>\n",
       "      <th>thal</th>\n",
       "      <th>num</th>\n",
       "    </tr>\n",
       "  </thead>\n",
       "  <tbody>\n",
       "    <tr>\n",
       "      <th>0</th>\n",
       "      <td>63.0</td>\n",
       "      <td>1.0</td>\n",
       "      <td>1.0</td>\n",
       "      <td>145.0</td>\n",
       "      <td>233.0</td>\n",
       "      <td>1.0</td>\n",
       "      <td>2.0</td>\n",
       "      <td>150.0</td>\n",
       "      <td>0.0</td>\n",
       "      <td>2.3</td>\n",
       "      <td>3.0</td>\n",
       "      <td>0.0</td>\n",
       "      <td>6.0</td>\n",
       "      <td>0</td>\n",
       "    </tr>\n",
       "    <tr>\n",
       "      <th>1</th>\n",
       "      <td>67.0</td>\n",
       "      <td>1.0</td>\n",
       "      <td>4.0</td>\n",
       "      <td>160.0</td>\n",
       "      <td>286.0</td>\n",
       "      <td>0.0</td>\n",
       "      <td>2.0</td>\n",
       "      <td>108.0</td>\n",
       "      <td>1.0</td>\n",
       "      <td>1.5</td>\n",
       "      <td>2.0</td>\n",
       "      <td>3.0</td>\n",
       "      <td>3.0</td>\n",
       "      <td>2</td>\n",
       "    </tr>\n",
       "    <tr>\n",
       "      <th>2</th>\n",
       "      <td>67.0</td>\n",
       "      <td>1.0</td>\n",
       "      <td>4.0</td>\n",
       "      <td>120.0</td>\n",
       "      <td>229.0</td>\n",
       "      <td>0.0</td>\n",
       "      <td>2.0</td>\n",
       "      <td>129.0</td>\n",
       "      <td>1.0</td>\n",
       "      <td>2.6</td>\n",
       "      <td>2.0</td>\n",
       "      <td>2.0</td>\n",
       "      <td>7.0</td>\n",
       "      <td>1</td>\n",
       "    </tr>\n",
       "    <tr>\n",
       "      <th>3</th>\n",
       "      <td>37.0</td>\n",
       "      <td>1.0</td>\n",
       "      <td>3.0</td>\n",
       "      <td>130.0</td>\n",
       "      <td>250.0</td>\n",
       "      <td>0.0</td>\n",
       "      <td>0.0</td>\n",
       "      <td>187.0</td>\n",
       "      <td>0.0</td>\n",
       "      <td>3.5</td>\n",
       "      <td>3.0</td>\n",
       "      <td>0.0</td>\n",
       "      <td>3.0</td>\n",
       "      <td>0</td>\n",
       "    </tr>\n",
       "    <tr>\n",
       "      <th>4</th>\n",
       "      <td>41.0</td>\n",
       "      <td>0.0</td>\n",
       "      <td>2.0</td>\n",
       "      <td>130.0</td>\n",
       "      <td>204.0</td>\n",
       "      <td>0.0</td>\n",
       "      <td>2.0</td>\n",
       "      <td>172.0</td>\n",
       "      <td>0.0</td>\n",
       "      <td>1.4</td>\n",
       "      <td>1.0</td>\n",
       "      <td>0.0</td>\n",
       "      <td>3.0</td>\n",
       "      <td>0</td>\n",
       "    </tr>\n",
       "  </tbody>\n",
       "</table>\n",
       "</div>"
      ],
      "text/plain": [
       "    age  sex   cp  tresbps   chol  fbs  restecg  thalach  exang  oldpeak  \\\n",
       "0  63.0  1.0  1.0    145.0  233.0  1.0      2.0    150.0    0.0      2.3   \n",
       "1  67.0  1.0  4.0    160.0  286.0  0.0      2.0    108.0    1.0      1.5   \n",
       "2  67.0  1.0  4.0    120.0  229.0  0.0      2.0    129.0    1.0      2.6   \n",
       "3  37.0  1.0  3.0    130.0  250.0  0.0      0.0    187.0    0.0      3.5   \n",
       "4  41.0  0.0  2.0    130.0  204.0  0.0      2.0    172.0    0.0      1.4   \n",
       "\n",
       "   slope   ca  thal  num  \n",
       "0    3.0  0.0   6.0    0  \n",
       "1    2.0  3.0   3.0    2  \n",
       "2    2.0  2.0   7.0    1  \n",
       "3    3.0  0.0   3.0    0  \n",
       "4    1.0  0.0   3.0    0  "
      ]
     },
     "execution_count": 257,
     "metadata": {},
     "output_type": "execute_result"
    }
   ],
   "source": [
    "#import datasets\n",
    "filename_cleve = 'https://archive.ics.uci.edu/ml/machine-learning-databases/heart-disease/processed.cleveland.data'\n",
    "filename_hun = 'https://archive.ics.uci.edu/ml/machine-learning-databases/heart-disease/processed.hungarian.data'\n",
    "filename_ch = 'https://archive.ics.uci.edu/ml/machine-learning-databases/heart-disease/processed.switzerland.data'\n",
    "filename_va = 'https://archive.ics.uci.edu/ml/machine-learning-databases/heart-disease/processed.va.data'\n",
    "\n",
    "#column names for the data\n",
    "colnames = ['age','sex','cp','tresbps','chol','fbs','restecg','thalach','exang','oldpeak','slope','ca','thal','num']\n",
    "\n",
    "#datasets into dataframes and replace '?' values as NaN\n",
    "df_cleve = pd.read_csv(filename_cleve, names=colnames, na_values = '?')\n",
    "df_hun  = pd.read_csv(filename_hun, names=colnames, na_values = '?')\n",
    "df_ch = pd.read_csv(filename_ch, names=colnames, na_values = '?')\n",
    "df_va = pd.read_csv(filename_va, names=colnames, na_values = '?')\n",
    "\n",
    "df_cleve.head()"
   ]
  },
  {
   "cell_type": "code",
   "execution_count": 258,
   "metadata": {},
   "outputs": [
    {
     "data": {
      "text/html": [
       "<div>\n",
       "<style>\n",
       "    .dataframe thead tr:only-child th {\n",
       "        text-align: right;\n",
       "    }\n",
       "\n",
       "    .dataframe thead th {\n",
       "        text-align: left;\n",
       "    }\n",
       "\n",
       "    .dataframe tbody tr th {\n",
       "        vertical-align: top;\n",
       "    }\n",
       "</style>\n",
       "<table border=\"1\" class=\"dataframe\">\n",
       "  <thead>\n",
       "    <tr style=\"text-align: right;\">\n",
       "      <th></th>\n",
       "      <th>age</th>\n",
       "      <th>sex</th>\n",
       "      <th>cp</th>\n",
       "      <th>tresbps</th>\n",
       "      <th>chol</th>\n",
       "      <th>fbs</th>\n",
       "      <th>restecg</th>\n",
       "      <th>thalach</th>\n",
       "      <th>exang</th>\n",
       "      <th>oldpeak</th>\n",
       "      <th>slope</th>\n",
       "      <th>ca</th>\n",
       "      <th>thal</th>\n",
       "      <th>num</th>\n",
       "    </tr>\n",
       "  </thead>\n",
       "  <tbody>\n",
       "    <tr>\n",
       "      <th>count</th>\n",
       "      <td>920.000000</td>\n",
       "      <td>920.000000</td>\n",
       "      <td>920.000000</td>\n",
       "      <td>861.000000</td>\n",
       "      <td>890.000000</td>\n",
       "      <td>830.000000</td>\n",
       "      <td>918.000000</td>\n",
       "      <td>865.000000</td>\n",
       "      <td>865.000000</td>\n",
       "      <td>858.000000</td>\n",
       "      <td>611.000000</td>\n",
       "      <td>309.000000</td>\n",
       "      <td>434.000000</td>\n",
       "      <td>920.000000</td>\n",
       "    </tr>\n",
       "    <tr>\n",
       "      <th>mean</th>\n",
       "      <td>53.510870</td>\n",
       "      <td>0.789130</td>\n",
       "      <td>3.250000</td>\n",
       "      <td>132.132404</td>\n",
       "      <td>199.130337</td>\n",
       "      <td>0.166265</td>\n",
       "      <td>0.604575</td>\n",
       "      <td>137.545665</td>\n",
       "      <td>0.389595</td>\n",
       "      <td>0.878788</td>\n",
       "      <td>1.770867</td>\n",
       "      <td>0.676375</td>\n",
       "      <td>5.087558</td>\n",
       "      <td>0.995652</td>\n",
       "    </tr>\n",
       "    <tr>\n",
       "      <th>std</th>\n",
       "      <td>9.424685</td>\n",
       "      <td>0.408148</td>\n",
       "      <td>0.930969</td>\n",
       "      <td>19.066070</td>\n",
       "      <td>110.780810</td>\n",
       "      <td>0.372543</td>\n",
       "      <td>0.805827</td>\n",
       "      <td>25.926276</td>\n",
       "      <td>0.487941</td>\n",
       "      <td>1.091226</td>\n",
       "      <td>0.619256</td>\n",
       "      <td>0.935653</td>\n",
       "      <td>1.919075</td>\n",
       "      <td>1.142693</td>\n",
       "    </tr>\n",
       "    <tr>\n",
       "      <th>min</th>\n",
       "      <td>28.000000</td>\n",
       "      <td>0.000000</td>\n",
       "      <td>1.000000</td>\n",
       "      <td>0.000000</td>\n",
       "      <td>0.000000</td>\n",
       "      <td>0.000000</td>\n",
       "      <td>0.000000</td>\n",
       "      <td>60.000000</td>\n",
       "      <td>0.000000</td>\n",
       "      <td>-2.600000</td>\n",
       "      <td>1.000000</td>\n",
       "      <td>0.000000</td>\n",
       "      <td>3.000000</td>\n",
       "      <td>0.000000</td>\n",
       "    </tr>\n",
       "    <tr>\n",
       "      <th>25%</th>\n",
       "      <td>47.000000</td>\n",
       "      <td>1.000000</td>\n",
       "      <td>3.000000</td>\n",
       "      <td>120.000000</td>\n",
       "      <td>175.000000</td>\n",
       "      <td>0.000000</td>\n",
       "      <td>0.000000</td>\n",
       "      <td>120.000000</td>\n",
       "      <td>0.000000</td>\n",
       "      <td>0.000000</td>\n",
       "      <td>1.000000</td>\n",
       "      <td>0.000000</td>\n",
       "      <td>3.000000</td>\n",
       "      <td>0.000000</td>\n",
       "    </tr>\n",
       "    <tr>\n",
       "      <th>50%</th>\n",
       "      <td>54.000000</td>\n",
       "      <td>1.000000</td>\n",
       "      <td>4.000000</td>\n",
       "      <td>130.000000</td>\n",
       "      <td>223.000000</td>\n",
       "      <td>0.000000</td>\n",
       "      <td>0.000000</td>\n",
       "      <td>140.000000</td>\n",
       "      <td>0.000000</td>\n",
       "      <td>0.500000</td>\n",
       "      <td>2.000000</td>\n",
       "      <td>0.000000</td>\n",
       "      <td>6.000000</td>\n",
       "      <td>1.000000</td>\n",
       "    </tr>\n",
       "    <tr>\n",
       "      <th>75%</th>\n",
       "      <td>60.000000</td>\n",
       "      <td>1.000000</td>\n",
       "      <td>4.000000</td>\n",
       "      <td>140.000000</td>\n",
       "      <td>268.000000</td>\n",
       "      <td>0.000000</td>\n",
       "      <td>1.000000</td>\n",
       "      <td>157.000000</td>\n",
       "      <td>1.000000</td>\n",
       "      <td>1.500000</td>\n",
       "      <td>2.000000</td>\n",
       "      <td>1.000000</td>\n",
       "      <td>7.000000</td>\n",
       "      <td>2.000000</td>\n",
       "    </tr>\n",
       "    <tr>\n",
       "      <th>max</th>\n",
       "      <td>77.000000</td>\n",
       "      <td>1.000000</td>\n",
       "      <td>4.000000</td>\n",
       "      <td>200.000000</td>\n",
       "      <td>603.000000</td>\n",
       "      <td>1.000000</td>\n",
       "      <td>2.000000</td>\n",
       "      <td>202.000000</td>\n",
       "      <td>1.000000</td>\n",
       "      <td>6.200000</td>\n",
       "      <td>3.000000</td>\n",
       "      <td>3.000000</td>\n",
       "      <td>7.000000</td>\n",
       "      <td>4.000000</td>\n",
       "    </tr>\n",
       "  </tbody>\n",
       "</table>\n",
       "</div>"
      ],
      "text/plain": [
       "              age         sex          cp     tresbps        chol         fbs  \\\n",
       "count  920.000000  920.000000  920.000000  861.000000  890.000000  830.000000   \n",
       "mean    53.510870    0.789130    3.250000  132.132404  199.130337    0.166265   \n",
       "std      9.424685    0.408148    0.930969   19.066070  110.780810    0.372543   \n",
       "min     28.000000    0.000000    1.000000    0.000000    0.000000    0.000000   \n",
       "25%     47.000000    1.000000    3.000000  120.000000  175.000000    0.000000   \n",
       "50%     54.000000    1.000000    4.000000  130.000000  223.000000    0.000000   \n",
       "75%     60.000000    1.000000    4.000000  140.000000  268.000000    0.000000   \n",
       "max     77.000000    1.000000    4.000000  200.000000  603.000000    1.000000   \n",
       "\n",
       "          restecg     thalach       exang     oldpeak       slope          ca  \\\n",
       "count  918.000000  865.000000  865.000000  858.000000  611.000000  309.000000   \n",
       "mean     0.604575  137.545665    0.389595    0.878788    1.770867    0.676375   \n",
       "std      0.805827   25.926276    0.487941    1.091226    0.619256    0.935653   \n",
       "min      0.000000   60.000000    0.000000   -2.600000    1.000000    0.000000   \n",
       "25%      0.000000  120.000000    0.000000    0.000000    1.000000    0.000000   \n",
       "50%      0.000000  140.000000    0.000000    0.500000    2.000000    0.000000   \n",
       "75%      1.000000  157.000000    1.000000    1.500000    2.000000    1.000000   \n",
       "max      2.000000  202.000000    1.000000    6.200000    3.000000    3.000000   \n",
       "\n",
       "             thal         num  \n",
       "count  434.000000  920.000000  \n",
       "mean     5.087558    0.995652  \n",
       "std      1.919075    1.142693  \n",
       "min      3.000000    0.000000  \n",
       "25%      3.000000    0.000000  \n",
       "50%      6.000000    1.000000  \n",
       "75%      7.000000    2.000000  \n",
       "max      7.000000    4.000000  "
      ]
     },
     "execution_count": 258,
     "metadata": {},
     "output_type": "execute_result"
    }
   ],
   "source": [
    "# Descriptive statics\n",
    "frames = [df_cleve, df_hun, df_ch, df_va]\n",
    "df = pd.concat(frames)\n",
    "\n",
    "df.describe()"
   ]
  },
  {
   "cell_type": "markdown",
   "metadata": {},
   "source": [
    "There are 920 of samples in total.\n",
    "\n",
    "Looking at the sample count, slope, angiography and thal values seem to be missing in at least one or two of the datasets. \n",
    "\n",
    "The chol value is calculated as serum cholesterol in mg/dl (HDL + LDL + 0,2*Triglycerides  <a href=\"https://www.healthline.com/health/serum-cholesterol#results\">source</a>) thus has so much variation between mean and max values.    "
   ]
  },
  {
   "cell_type": "code",
   "execution_count": 259,
   "metadata": {},
   "outputs": [
    {
     "data": {
      "text/plain": [
       "age          0\n",
       "sex          0\n",
       "cp           0\n",
       "tresbps     59\n",
       "chol        30\n",
       "fbs         90\n",
       "restecg      2\n",
       "thalach     55\n",
       "exang       55\n",
       "oldpeak     62\n",
       "slope      309\n",
       "ca         611\n",
       "thal       486\n",
       "num          0\n",
       "dtype: int64"
      ]
     },
     "execution_count": 259,
     "metadata": {},
     "output_type": "execute_result"
    }
   ],
   "source": [
    "np.sum(np.isnan(df))"
   ]
  },
  {
   "cell_type": "code",
   "execution_count": 272,
   "metadata": {},
   "outputs": [],
   "source": [
    "# Fill missing values with mean \n",
    "# df.fillna(df.mean())\n",
    "df = df.where(~np.isnan(df), df.mean(), axis = 'columns')"
   ]
  },
  {
   "cell_type": "code",
   "execution_count": 273,
   "metadata": {},
   "outputs": [],
   "source": [
    "#Use diagnosis values 1,2,3,4  as binary label 1 (has heart disease).\n",
    "labels = (df['num'] > 0).values"
   ]
  },
  {
   "cell_type": "code",
   "execution_count": 274,
   "metadata": {},
   "outputs": [
    {
     "data": {
      "text/plain": [
       "(920, 13)"
      ]
     },
     "execution_count": 274,
     "metadata": {},
     "output_type": "execute_result"
    }
   ],
   "source": [
    "#input data. extract the num column as it is the label for the model.\n",
    "columns = ['age','sex','cp','tresbps','chol','fbs','restecg','thalach','exang','oldpeak','slope','ca','thal']\n",
    "\n",
    "# Make new dataframe without the diagnosis column \n",
    "data = df[columns].values\n",
    "data.shape"
   ]
  },
  {
   "cell_type": "markdown",
   "metadata": {},
   "source": [
    "The dataframe has now 13 columns."
   ]
  },
  {
   "cell_type": "code",
   "execution_count": 275,
   "metadata": {},
   "outputs": [],
   "source": [
    "# Scale the data\n",
    "# Min max scaler to find minumum and maximum values and scale them\n",
    "min_max_scaler = preprocessing.MinMaxScaler()\n",
    "\n",
    "# new_data = k*data + b (constant)\n",
    "data_scaled = min_max_scaler.fit_transform(data)"
   ]
  },
  {
   "cell_type": "code",
   "execution_count": 276,
   "metadata": {},
   "outputs": [
    {
     "data": {
      "text/plain": [
       "(array([ 0.02040816,  1.        ,  0.33333333,  0.005     ,  0.00165837,\n",
       "         1.        ,  0.5       ,  0.00704225,  1.        ,  0.11363636,\n",
       "         0.5       ,  0.33333333,  0.25      ]),\n",
       " array([-0.57142857,  0.        , -0.33333333,  0.        ,  0.        ,\n",
       "         0.        ,  0.        , -0.42253521,  0.        ,  0.29545455,\n",
       "        -0.5       ,  0.        , -0.75      ]))"
      ]
     },
     "execution_count": 276,
     "metadata": {},
     "output_type": "execute_result"
    }
   ],
   "source": [
    "min_max_scaler.scale_, min_max_scaler.min_"
   ]
  },
  {
   "cell_type": "code",
   "execution_count": 277,
   "metadata": {
    "collapsed": true
   },
   "outputs": [],
   "source": [
    "# Split the data into random training and validation subsets using sklearning.model\n",
    "\n",
    "# 36% of the training data is randomly used for testing.\n",
    "x_train, x_test, y_train, y_test = train_test_split(data_scaled, labels, test_size = 0.36)"
   ]
  },
  {
   "cell_type": "code",
   "execution_count": 332,
   "metadata": {},
   "outputs": [
    {
     "name": "stdout",
     "output_type": "stream",
     "text": [
      "xtrain shape:  (588, 13)\n",
      "xtest shape:  (332, 13)\n"
     ]
    }
   ],
   "source": [
    "print('xtrain shape: ', x_train.shape)\n",
    "print('xtest shape: ', x_test.shape)"
   ]
  },
  {
   "cell_type": "markdown",
   "metadata": {},
   "source": [
    "## 4. Modeling and compilation"
   ]
  },
  {
   "cell_type": "markdown",
   "metadata": {},
   "source": [
    "Let’s start off by defining baseline model. To get started there are some rule of thums selecting the how many hidden layers and neurons your networks should use. At this point you must also define what kind of activation function to use for each layer. Finally we should choose the loss function to be used in training.\n",
    "\n",
    "<b>How many layers?</b>   \n",
    "The number of layres shoud be squareroot of m*n. The dimensions of the sampledata is 1x13. sqrt(1+13) = 3 or 4. So we start the model two fully connected hidden layer and one output layer. \n",
    "\n",
    "\n",
    "<b>What kind of activation function</b>   \n",
    "The activation model for these hidden layers is called <b>ReLU</b> which is generally accepted to work best. The output layer uses <b>Sigmoid</b> activation which returns a number between 0 and 1 on a s-shaped curve. As in this assignment our goal is a binary classification.\n",
    "\n",
    "<b>How many neurons?</b>   \n",
    "-The same number of neurons as input variables. This is a good default starting point when creating neural networks.   \n",
    "-The number of hidden neurons should be between the size of the input layer and the size of the output layer.   \n",
    "-The number of hidden neurons should be 2/3 the size of the input layer, plus the size of the output layer.   \n",
    "-The number of hidden neurons should be less than twice the size of the input layer.   \n",
    "-The number of to nodes has to be kept as low as possible   \n",
    " \n",
    "<b>Loss function?</b>   \n",
    "Logarithmic loss function (binary_crossentropy) is preferred for binary classification problems. \n",
    "\n",
    "\n",
    "The objectives of training is varied. This is one of the reasons why the evaluation of deep networks remains an empirical process and everything is developed through experiments. The goal is to find a global minumum, but your training can get stucked in local minumum. That's why it is good practice to always perform several trainings. Some times training can accept some noise on the inputs while a good training can't. \n",
    "\n",
    "This datasets contain less than thousand samples of numerical data combined. The training is should only take some seconds if not less. Sometimes the complexity of a neural networks parameters can range in tens or even hundreds of millions so some thought should be put on choosing the model. \n",
    "\n",
    "\n",
    " \n",
    " \n",
    "Sources:   \n",
    "<a href=\"https://stats.stackexchange.com/questions/181/how-to-choose-the-number-of-hidden-layers-and-nodes-in-a-feedforward-neural-netw\">how-to-choose-the-number-of-hidden-layers-and-nodes-in-a-feedforward-neural</a>\n",
    "\n",
    "http://news.mit.edu/2017/explained-neural-networks-deep-learning-0414\n",
    "\n",
    "https://towardsdatascience.com/activation-functions-neural-networks-1cbd9f8d91d6\n",
    "\n",
    "https://machinelearningmastery.com/binary-classification-tutorial-with-the-keras-deep-learning-library/\n",
    "\n",
    "\n"
   ]
  },
  {
   "cell_type": "markdown",
   "metadata": {},
   "source": []
  },
  {
   "cell_type": "code",
   "execution_count": 320,
   "metadata": {},
   "outputs": [],
   "source": [
    "# Define the architecture of the network\n",
    "model = Sequential()\n",
    "model.add(Dense(10, activation = 'relu', input_dim =  13))\n",
    "model.add(Dense(10, activation = 'relu'))\n",
    "model.add(Dense(1, activation = 'sigmoid'))\n",
    "\n",
    "#compile the network\n",
    "model.compile(optimizer = 'rmsprop',\n",
    "                loss = 'binary_crossentropy',\n",
    "                metrics = ['accuracy'])"
   ]
  },
  {
   "cell_type": "markdown",
   "metadata": {},
   "source": [
    "# 5. Training and Validation"
   ]
  },
  {
   "cell_type": "markdown",
   "metadata": {},
   "source": [
    "The training is supervised. The user decides how the networkd is trained.\n",
    "\n",
    "Firstly you choose the number of epochs, which is the number of iterations the samples run through the network. Not always more is better. As in some point the network starts to learn the training data too well and becomes overfit. \n",
    "\n",
    "We start with 50 epochs.\n",
    "\n",
    "The samples can be fed as batches. It requires less memory and the results should be better. Since you train network using less number of samples the overall training procedure requires less memory. It's especially important in case if you are not able to fit dataset in memory.\n",
    "\n",
    "We start with batch size of 40.\n",
    "\n",
    "After every training iteration we run the test data throught the network and validate how the network predicts to unseen values."
   ]
  },
  {
   "cell_type": "code",
   "execution_count": 321,
   "metadata": {
    "collapsed": true
   },
   "outputs": [],
   "source": [
    "N = 50 # number of epochs\n",
    "h = model.fit(x_train, y_train,\n",
    "             verbose = 0, #hide training output\n",
    "             epochs = N,\n",
    "             batch_size = 40,\n",
    "             validation_data = (x_test, y_test))"
   ]
  },
  {
   "cell_type": "markdown",
   "metadata": {},
   "source": [
    "# 6. Evaluation"
   ]
  },
  {
   "cell_type": "code",
   "execution_count": 349,
   "metadata": {},
   "outputs": [
    {
     "data": {
      "image/png": "[encoded data removed]",
      "text/plain": [
       "<matplotlib.figure.Figure at 0x240ba3f9ef0>"
      ]
     },
     "metadata": {},
     "output_type": "display_data"
    },
    {
     "data": {
      "image/png": "[encoded data removed]",
      "text/plain": [
       "<matplotlib.figure.Figure at 0x240bb05c5c0>"
      ]
     },
     "metadata": {},
     "output_type": "display_data"
    },
    {
     "name": "stdout",
     "output_type": "stream",
     "text": [
      "max accuracy:  0.831632651034\n",
      "max val_acc: 0.828313249421\n",
      "min loss function value 0.40520648121\n"
     ]
    }
   ],
   "source": [
    "# plot the results\n",
    "epochs = range(1, N + 1)\n",
    "acc = h.history['acc']\n",
    "val_acc = h.history['val_acc']\n",
    "loss = h.history['loss']\n",
    "val_loss = h.history['val_loss']\n",
    "\n",
    "# accuracy plot\n",
    "plt.figure(figsize = (20, 5))\n",
    "plt.plot(epochs, acc, 'bo', label = 'Training')\n",
    "plt.plot(epochs, val_acc, 'r-', label = 'Validation')\n",
    "plt.title('2 hidden layers with 10 nodes and batch size of 40')\n",
    "plt.xlabel('Epochs')\n",
    "plt.ylabel('Accuracy')\n",
    "plt.ylim([0, 1]) #limiting values for better comparison between plots\n",
    "plt.grid()\n",
    "plt.legend()\n",
    "plt.show()\n",
    "\n",
    "# loss plot to see how the lossfunction decreases\n",
    "plt.figure(figsize = (20, 5))\n",
    "plt.plot(epochs, loss, 'bo', label = 'Training')\n",
    "plt.plot(epochs, val_loss, 'r-', label = 'Validation')\n",
    "plt.title('2 hidden layers with 10 nodes and batch size of 40')\n",
    "plt.xlabel('Epochs')\n",
    "plt.ylabel('Loss')\n",
    "plt.ylim([0, 1]) \n",
    "plt.grid()\n",
    "plt.legend()\n",
    "plt.show()\n",
    "print('max accuracy: ', max(acc))\n",
    "print('max val_acc:', max(val_acc))\n",
    "print('min loss function value', min(loss))"
   ]
  },
  {
   "cell_type": "markdown",
   "metadata": {},
   "source": [
    "## 7. Results and Discussion "
   ]
  },
  {
   "cell_type": "markdown",
   "metadata": {},
   "source": [
    "Model trained with 2 hidden layers with 10 nodes and and one-node output layer.<br>\n",
    "With 50 epocsh and batch size of 40 results are:<br>\n",
    "--max accuracy: 83% <br>\n",
    "--max val accuracy: 83% <br>\n",
    "--loss function value: 0.41\n",
    "\n",
    "This means the network can predict if a patient has heart disease with accuracy of 83%. "
   ]
  },
  {
   "cell_type": "markdown",
   "metadata": {},
   "source": [
    "By looking the plots above itseems in this model, accuracy-vise, you could stop training after 30-40 runs, while the loss function value continues to decrease even after 40 iterations."
   ]
  },
  {
   "cell_type": "markdown",
   "metadata": {},
   "source": [
    "The validation accuracy is the accuracy from test data. "
   ]
  },
  {
   "attachments": {
    "image.png": {
     "image/png": "[encoded data removed]"
    }
   },
   "cell_type": "markdown",
   "metadata": {},
   "source": [
    "### 7.1 Dropping and upping the batch size\n",
    "\n",
    "The following results are run on other notebook file with the same dataset.\n",
    "\n",
    "Lovering the batch size to 10 seems to get the accuracy up bit faster and to over 84%, but the validation accuracy stays in 82%.\n",
    "\n",
    "![image.png](attachment:image.png)\n"
   ]
  },
  {
   "attachments": {
    "image.png": {
     "image/png": "[encoded data removed]"
    }
   },
   "cell_type": "markdown",
   "metadata": {},
   "source": [
    "Upping the batch size to 230. Takes many more iterations to reach best accuracy and it never gets over 80%. Interestingly the validation accuracy seem to stay higher for many iterations. This can happen by random chance. Usually this will go away as you train more.\n",
    "\n",
    "![image.png](attachment:image.png)"
   ]
  },
  {
   "attachments": {
    "image.png": {
     "image/png": "[encoded data removed]"
    }
   },
   "cell_type": "markdown",
   "metadata": {},
   "source": [
    "With batch size of 230 the loss function decreases much slower never reaching values below 0.5.\n",
    "\n",
    "![image.png](attachment:image.png)"
   ]
  },
  {
   "cell_type": "markdown",
   "metadata": {},
   "source": [
    "### 7.2 Changing the value of nodes\n",
    "With this dataset lovering and upping the amount of nodes in hidden layers doesn't seem to get the accuracy any better as long as the number of hidden neurons is kept between 1 and 13 (the size of the input layer and the size of the output layer)."
   ]
  },
  {
   "cell_type": "markdown",
   "metadata": {},
   "source": [
    "### 7.3 Standardization \n",
    "Rather than performing the standardization on the entire dataset, it would be good practice to do the standardization on training data and test data separately. This makes standardization a step in model preparation. It prevents the algorithm having knowledge of “unseen” data during evaluation."
   ]
  },
  {
   "cell_type": "markdown",
   "metadata": {},
   "source": [
    "## 8. Conclusions"
   ]
  },
  {
   "cell_type": "markdown",
   "metadata": {},
   "source": [
    "The goal of this assignment was to create neural network model to predict the presence of a heart disease by using 920 samples of clinical patient data with 13 attributes. In the end the trained model could predict patiens heart disease with the accuracy of 83%.\n",
    "\n",
    "With this dataset smaller batchsizes (sub 100) seemed to work better for accuracy and for lower training time. "
   ]
  },
  {
   "cell_type": "markdown",
   "metadata": {},
   "source": [
    " "
   ]
  }
 ],
 "metadata": {
  "kernelspec": {
   "display_name": "Python 3",
   "language": "python",
   "name": "python3"
  },
  "language_info": {
   "codemirror_mode": {
    "name": "ipython",
    "version": 3
   },
   "file_extension": ".py",
   "mimetype": "text/x-python",
   "name": "python",
   "nbconvert_exporter": "python",
   "pygments_lexer": "ipython3",
   "version": "3.6.3"
  }
 },
 "nbformat": 4,
 "nbformat_minor": 2
}
