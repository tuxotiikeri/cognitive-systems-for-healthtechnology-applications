{
 "cells": [
  {
   "cell_type": "markdown",
   "metadata": {},
   "source": [
    "# Case 3 - Medical text categorization\n",
    "\n",
    "Tom Thiel<br>\n",
    "Metropolias UAS<br>\n",
    "12.3.2018\n",
    "\n",
    "## 1. Objectives\n",
    "\n",
    "Objective of this assignment is build a document classifier for 20 000 cardiovascular disease abstracts. \n",
    "\n",
    "To build a Natural Language Classifier in Keras you need to first preprocess the data by tokenizing the words. For this data set we have to create a vocabulary. \n",
    "\n",
    "## 2. Load data and find the labels"
   ]
  },
  {
   "cell_type": "code",
   "execution_count": 51,
   "metadata": {},
   "outputs": [
    {
     "name": "stdout",
     "output_type": "stream",
     "text": [
      "C01 423\n",
      "C02 158\n",
      "C03 65\n",
      "C04 1163\n",
      "C05 283\n",
      "C06 588\n",
      "C07 100\n",
      "C08 473\n",
      "C09 125\n",
      "C10 621\n",
      "C11 162\n",
      "C12 491\n",
      "C13 281\n",
      "C14 1249\n",
      "C15 215\n",
      "C16 200\n",
      "C17 295\n",
      "C18 388\n",
      "C19 191\n",
      "C20 525\n",
      "C21 546\n",
      "C22 92\n",
      "C23 1799\n"
     ]
    }
   ],
   "source": [
    "#Download the training data and the labels\n",
    "\n",
    "import os\n",
    "\n",
    "case3_dir = '../ohsumed-first-20000-docs/'\n",
    "train_dir = os.path.join(case3_dir, 'training')\n",
    "\n",
    "labels = []\n",
    "texts = []\n",
    "\n",
    "\n",
    "# to see how many abstracts there are in each directory\n",
    "label_list = [label for label in os.listdir(train_dir)]\n",
    "\n",
    "for label_type in label_list:\n",
    "    dir_name = os.path.join(train_dir, label_type)\n",
    "    print(label_type, len(os.listdir(dir_name)))\n",
    "    for fname in os.listdir(dir_name):\n",
    "        f = open(os.path.join(dir_name, fname))\n",
    "        texts.append(f.read())\n",
    "        f.close()\n",
    "        labels.append(label_list.index(label_type))"
   ]
  },
  {
   "cell_type": "markdown",
   "metadata": {},
   "source": [
    "## 3. Shape and preprocess data \n"
   ]
  },
  {
   "cell_type": "code",
   "execution_count": 52,
   "metadata": {},
   "outputs": [
    {
     "name": "stdout",
     "output_type": "stream",
     "text": [
      "Shape of labels tensor: (10433, 23)\n"
     ]
    }
   ],
   "source": [
    "#Preprocess integer labels into one-hot tensor labels\n",
    "\n",
    "from keras.utils.np_utils import to_categorical\n",
    "import numpy as np\n",
    "\n",
    "labels = np.asarray(labels)\n",
    "labels = to_categorical(labels)\n",
    "print('Shape of labels tensor:', labels.shape)"
   ]
  },
  {
   "cell_type": "markdown",
   "metadata": {},
   "source": [
    "\n",
    "Setting the vocabulary of the documents to 20 000 will cut off text any longer and for shorter abstracts the zeros will be filled to rest of the vector. "
   ]
  },
  {
   "cell_type": "code",
   "execution_count": 58,
   "metadata": {},
   "outputs": [
    {
     "name": "stdout",
     "output_type": "stream",
     "text": [
      "Found 30857 unique tokens\n",
      "Shape of data tensor: (10433, 300)\n"
     ]
    }
   ],
   "source": [
    "#Preprocess word data into integer tensors\n",
    "#Each sample is zero-padded to length \"maxlen\"\n",
    "#Only \"max_words\" most frequent words are taken into account\n",
    "\n",
    "from keras.preprocessing.text import Tokenizer\n",
    "from keras.preprocessing.sequence import pad_sequences\n",
    "\n",
    "maxlen = 300 # common length of all the samples\n",
    "max_words = 20000 # number of different word indices\n",
    "\n",
    "tokenizer = Tokenizer(num_words = max_words)\n",
    "tokenizer.fit_on_texts(texts)\n",
    "sequences = tokenizer.texts_to_sequences(texts)\n",
    "\n",
    "word_index = tokenizer.word_index\n",
    "print('Found %s unique tokens' % len(word_index))\n",
    "\n",
    "# add padding, so that every letter gets vectorized\n",
    "data = pad_sequences(sequences, maxlen = maxlen)\n",
    "\n",
    "print('Shape of data tensor:', data.shape)"
   ]
  },
  {
   "cell_type": "markdown",
   "metadata": {},
   "source": [
    "Training data must be suffled for validation split. Keras validation split picks out samples from the bottom of the data and in this case they would all be from category nro 23 which has 1799 samples. \n",
    "\n",
    "https://github.com/keras-team/keras/issues/597\n",
    "\n",
    "Let's test how the labels are suffled by printing abstract nro 7\n"
   ]
  },
  {
   "cell_type": "code",
   "execution_count": 54,
   "metadata": {},
   "outputs": [
    {
     "name": "stdout",
     "output_type": "stream",
     "text": [
      "Management of penile gunshot wounds.\n",
      " The management of 10 cases of penile gunshot wounds treated at Henry Ford Hospital from 1982 to 1986 is reviewed.\n",
      " All patients were assaulted by low velocity weapons (handguns).\n",
      " Eight patients had associated injuries, predominantly to the genital region (thigh, pubis, and scrotum).\n",
      " There were 5 urethral injuries; 4 were treated with primary repair, the remaining patient underwent delayed repair, complicated by severe urethral strictures requiring reoperation.\n",
      " Blood at the urethral meatus was suggestive of urethral injury but microscopic hematuria was not.\n",
      " Five penile injuries did not involve the urethra and were treated by debridement and primary wound closure with no immediate or delayed complications.\n",
      " In dealing with these injuries we recommend a high index of suspicion for urethral and regional organ injury and primary urethral closure if at all possible.\n",
      "\n"
     ]
    }
   ],
   "source": [
    "samples = np.arange(data.shape[0])\n",
    "print((texts[indices[6]]))"
   ]
  },
  {
   "cell_type": "code",
   "execution_count": 55,
   "metadata": {
    "collapsed": true
   },
   "outputs": [],
   "source": [
    "#Shuffle the training data \n",
    "\n",
    "np.random.shuffle(samples)\n",
    "data = data[samples]\n",
    "labels = labels[samples]"
   ]
  },
  {
   "cell_type": "code",
   "execution_count": 56,
   "metadata": {},
   "outputs": [
    {
     "name": "stdout",
     "output_type": "stream",
     "text": [
      "Death at cardiac catheterization: coronary artery embolization of calcium debris from Ionescu-Shiley bioprosthesis.\n",
      " The case described is a death due to embolization of calcium debris from a bioprosthesis, dislodged at cardiac catheterization.\n",
      " As more bioprosthetic valves are implanted, and more of them fail long-term with calcification, such complications of the invasive study of these valves may be expected.\n",
      "\n"
     ]
    }
   ],
   "source": [
    "#print abstract nro 7 again and see if it's the same\n",
    "print(texts[samples[6]])"
   ]
  },
  {
   "cell_type": "markdown",
   "metadata": {},
   "source": [
    "The suffling was successful.\n",
    "\n",
    "## 5. Modeling\n",
    "\n",
    "Time to use embedding to get rid of one-hot vectors and use more sophisticated way for presenting the words in matrixes. There will be only one representation for each word during and after training.\n",
    "\n",
    "Texts to matrix -> default way in keras. It loses the order of words so it is not suitable for machine translation. \n",
    "\n",
    "Neural network based models like vector inputs. We, therefore, need to convert the integers into vectors. \n",
    "Embedding turns positive integers (indexes) into dense vectors of fixed size. eg. [[4], [20]] -> [[0.25, 0.1], [0.6, -0.2]]<br> <br> \n",
    "Embedding layer can only be used as the first layer in a model. It can also be used alone to learn a word embedding that can be saved and used in another model later.\n",
    "\n",
    "Embedding layer must specify 3 arguments:\n",
    "<li>input_dim</li>\n",
    "<li>output_dim</li>\n",
    "<li>input_length</li>\n",
    "\n",
    "Using LSTM (or any other type of RNN with time sequence) you don't need flattening layers before fully connected dense layer as the output shape is 100x1.\n",
    "\n",
    "The key to LSTMs is the cell state, a line running through the states (sequences). It can store values from state to state."
   ]
  },
  {
   "cell_type": "code",
   "execution_count": 59,
   "metadata": {},
   "outputs": [
    {
     "name": "stdout",
     "output_type": "stream",
     "text": [
      "_________________________________________________________________\n",
      "Layer (type)                 Output Shape              Param #   \n",
      "=================================================================\n",
      "embedding_4 (Embedding)      (None, 300, 32)           640000    \n",
      "_________________________________________________________________\n",
      "lstm_4 (LSTM)                (None, 100)               53200     \n",
      "_________________________________________________________________\n",
      "dense_4 (Dense)              (None, 23)                2323      \n",
      "=================================================================\n",
      "Total params: 695,523\n",
      "Trainable params: 695,523\n",
      "Non-trainable params: 0\n",
      "_________________________________________________________________\n"
     ]
    }
   ],
   "source": [
    "#Build and compile the network model\n",
    "\n",
    "from keras.models import Sequential\n",
    "from keras.layers import Dense, Embedding, LSTM\n",
    "\n",
    "model = Sequential()\n",
    "#create 300x32 matrix\n",
    "model.add(Embedding(max_words, 32, input_shape=(maxlen,))) \n",
    "model.add(LSTM(100)) #matrix size 100x1\n",
    "model.add(Dense(23, activation = 'softmax'))\n",
    "\n",
    "model.compile(optimizer = 'rmsprop',\n",
    "             loss = 'categorical_crossentropy',\n",
    "             metrics = ['accuracy'])\n",
    "\n",
    "model.summary()"
   ]
  },
  {
   "cell_type": "markdown",
   "metadata": {},
   "source": [
    "## 5. Training\n",
    "\n"
   ]
  },
  {
   "cell_type": "code",
   "execution_count": 67,
   "metadata": {},
   "outputs": [
    {
     "name": "stdout",
     "output_type": "stream",
     "text": [
      "Train on 9911 samples, validate on 522 samples\n",
      "Epoch 1/12\n",
      "9911/9911 [==============================] - 101s 10ms/step - loss: 2.4738 - acc: 0.2621 - val_loss: 2.9479 - val_acc: 0.1437\n",
      "Epoch 2/12\n",
      "9911/9911 [==============================] - 103s 10ms/step - loss: 2.3318 - acc: 0.3011 - val_loss: 3.1210 - val_acc: 0.1111\n",
      "Epoch 3/12\n",
      "9911/9911 [==============================] - 104s 11ms/step - loss: 2.1942 - acc: 0.3431 - val_loss: 3.2645 - val_acc: 0.1149\n",
      "Epoch 4/12\n",
      "9911/9911 [==============================] - 106s 11ms/step - loss: 2.0674 - acc: 0.3753 - val_loss: 3.2694 - val_acc: 0.1130\n",
      "Epoch 5/12\n",
      "9911/9911 [==============================] - 104s 11ms/step - loss: 1.9571 - acc: 0.4102 - val_loss: 3.5039 - val_acc: 0.1092\n",
      "Epoch 6/12\n",
      "9911/9911 [==============================] - 104s 11ms/step - loss: 1.8411 - acc: 0.4407 - val_loss: 3.5984 - val_acc: 0.1130\n",
      "Epoch 7/12\n",
      "9911/9911 [==============================] - 98s 10ms/step - loss: 1.7437 - acc: 0.4546 - val_loss: 3.7881 - val_acc: 0.1034\n",
      "Epoch 8/12\n",
      "9911/9911 [==============================] - 105s 11ms/step - loss: 1.6535 - acc: 0.4795 - val_loss: 3.7228 - val_acc: 0.0843\n",
      "Epoch 9/12\n",
      "9911/9911 [==============================] - 102s 10ms/step - loss: 1.5703 - acc: 0.4962 - val_loss: 4.0449 - val_acc: 0.0920\n",
      "Epoch 10/12\n",
      "9911/9911 [==============================] - 108s 11ms/step - loss: 1.4925 - acc: 0.5158 - val_loss: 4.0235 - val_acc: 0.0958\n",
      "Epoch 11/12\n",
      "9911/9911 [==============================] - 105s 11ms/step - loss: 1.4286 - acc: 0.5245 - val_loss: 4.2108 - val_acc: 0.0977\n",
      "Epoch 12/12\n",
      "9911/9911 [==============================] - 101s 10ms/step - loss: 1.3732 - acc: 0.5348 - val_loss: 4.2518 - val_acc: 0.0862\n",
      "Elapsed time: 1242.08 seconds\n"
     ]
    }
   ],
   "source": [
    "# Fit the model to training data\n",
    "\n",
    "import time\n",
    "\n",
    "t1 = time.time()\n",
    "# takes 5 % and uses it as validation data\n",
    "history = model.fit(data, labels,\n",
    "                   epochs = 12,\n",
    "                   batch_size = 25,\n",
    "                   validation_split = 0.05) \n",
    "t2 = time.time()\n",
    "print('Elapsed time: {:.2f} seconds'.format((t2-t1)))\n"
   ]
  },
  {
   "cell_type": "code",
   "execution_count": 68,
   "metadata": {},
   "outputs": [
    {
     "data": {
      "image/png": "[encoded data removed]",
      "text/plain": [
       "<matplotlib.figure.Figure at 0x23b21ac9c50>"
      ]
     },
     "metadata": {},
     "output_type": "display_data"
    },
    {
     "data": {
      "image/png": "[encoded data removed]",
      "text/plain": [
       "<matplotlib.figure.Figure at 0x23b21792908>"
      ]
     },
     "metadata": {},
     "output_type": "display_data"
    }
   ],
   "source": [
    "# Plot the results for model 1\n",
    "import matplotlib.pyplot as plt\n",
    "\n",
    "acc = history.history['acc']\n",
    "val_acc = history.history['val_acc']\n",
    "loss = history.history['loss']\n",
    "val_loss = history.history['val_loss']\n",
    "\n",
    "epochs = range(1, len(acc) + 1)\n",
    "\n",
    "plt.figure(figsize=(15, 3))\n",
    "plt.plot(epochs, acc, 'bo', label='Training acc')\n",
    "plt.plot(epochs, val_acc, 'r', label='Validation acc')\n",
    "plt.title('Training and validation accuracy')\n",
    "plt.grid()\n",
    "plt.xlabel('Epoch')\n",
    "plt.legend()\n",
    "\n",
    "\n",
    "plt.figure(figsize=(15, 3))\n",
    "plt.plot(epochs, loss, 'bo', label='Training loss')\n",
    "plt.plot(epochs, val_loss, 'r', label='Validation loss')\n",
    "plt.title('Training and validation loss')\n",
    "plt.grid()\n",
    "plt.xlabel('Epoch')\n",
    "plt.legend()\n",
    "\n",
    "plt.show()"
   ]
  },
  {
   "cell_type": "markdown",
   "metadata": {},
   "source": [
    "Acc > 0.5<br>\n",
    "Val_acc < 0.1 \n",
    "\n",
    "The model is definately <b>overfitting</b>. Let's try with other hyperparameters:\n",
    "<br>\n",
    "<li> batch_size 20 -> 10</li>\n",
    "<li>10 epocs is enough</li>\n",
    "<li>up the validations split 0.05 -> 0.2</li>"
   ]
  },
  {
   "cell_type": "code",
   "execution_count": 69,
   "metadata": {},
   "outputs": [
    {
     "name": "stdout",
     "output_type": "stream",
     "text": [
      "Train on 8346 samples, validate on 2087 samples\n",
      "Epoch 1/10\n",
      "8346/8346 [==============================] - 175s 21ms/step - loss: 1.3573 - acc: 0.5440 - val_loss: 2.3499 - val_acc: 0.3421\n",
      "Epoch 2/10\n",
      "8346/8346 [==============================] - 172s 21ms/step - loss: 1.2870 - acc: 0.5752 - val_loss: 2.5550 - val_acc: 0.3009\n",
      "Epoch 3/10\n",
      "8346/8346 [==============================] - 172s 21ms/step - loss: 1.2215 - acc: 0.5851 - val_loss: 2.7072 - val_acc: 0.2645\n",
      "Epoch 4/10\n",
      "8346/8346 [==============================] - 180s 22ms/step - loss: 1.1630 - acc: 0.6034 - val_loss: 2.8892 - val_acc: 0.2496\n",
      "Epoch 5/10\n",
      "8346/8346 [==============================] - 184s 22ms/step - loss: 1.1201 - acc: 0.6099 - val_loss: 3.0673 - val_acc: 0.2286\n",
      "Epoch 6/10\n",
      "8346/8346 [==============================] - 181s 22ms/step - loss: 1.0734 - acc: 0.6250 - val_loss: 3.2832 - val_acc: 0.2262\n",
      "Epoch 7/10\n",
      "8346/8346 [==============================] - 183s 22ms/step - loss: 1.0491 - acc: 0.6208 - val_loss: 3.3330 - val_acc: 0.2166\n",
      "Epoch 8/10\n",
      "8346/8346 [==============================] - 179s 22ms/step - loss: 1.0182 - acc: 0.6311 - val_loss: 3.4901 - val_acc: 0.2065\n",
      "Epoch 9/10\n",
      "8346/8346 [==============================] - 166s 20ms/step - loss: 0.9874 - acc: 0.6387 - val_loss: 3.6393 - val_acc: 0.2132\n",
      "Epoch 10/10\n",
      "8346/8346 [==============================] - 170s 20ms/step - loss: 0.9607 - acc: 0.6364 - val_loss: 3.8139 - val_acc: 0.1941\n",
      "Elapsed time: 1762.35 seconds\n"
     ]
    }
   ],
   "source": [
    "t1 = time.time()\n",
    "# takes 20% and uses it as validation data\n",
    "history = model.fit(data, labels,\n",
    "                   epochs = 10,\n",
    "                   batch_size = 10,\n",
    "                   validation_split = 0.2) \n",
    "t2 = time.time()\n",
    "print('Elapsed time: {:.2f} seconds'.format((t2-t1)))"
   ]
  },
  {
   "cell_type": "code",
   "execution_count": 71,
   "metadata": {},
   "outputs": [
    {
     "data": {
      "image/png": "[encoded data removed]",
      "text/plain": [
       "<matplotlib.figure.Figure at 0x23b21851208>"
      ]
     },
     "metadata": {},
     "output_type": "display_data"
    },
    {
     "data": {
      "image/png": "[encoded data removed]",
      "text/plain": [
       "<matplotlib.figure.Figure at 0x23b2177c630>"
      ]
     },
     "metadata": {},
     "output_type": "display_data"
    }
   ],
   "source": [
    "# Plot the results for model 2\n",
    "import matplotlib.pyplot as plt\n",
    "\n",
    "acc = history.history['acc']\n",
    "val_acc = history.history['val_acc']\n",
    "loss = history.history['loss']\n",
    "val_loss = history.history['val_loss']\n",
    "\n",
    "epochs = range(1, len(acc) + 1)\n",
    "\n",
    "plt.figure(figsize=(15, 3))\n",
    "plt.plot(epochs, acc, 'bo', label='Training acc')\n",
    "plt.plot(epochs, val_acc, 'r', label='Validation acc')\n",
    "plt.title('Training and validation accuracy')\n",
    "plt.grid()\n",
    "plt.xlabel('Epoch')\n",
    "plt.legend()\n",
    "\n",
    "\n",
    "plt.figure(figsize=(15, 3))\n",
    "plt.plot(epochs, loss, 'bo', label='Training loss')\n",
    "plt.plot(epochs, val_loss, 'r', label='Validation loss')\n",
    "plt.title('Training and validation loss')\n",
    "plt.grid()\n",
    "plt.xlabel('Epoch')\n",
    "plt.legend()\n",
    "\n",
    "plt.show()"
   ]
  },
  {
   "cell_type": "markdown",
   "metadata": {},
   "source": [
    "With lower batch size the training took 40 % seconds longer (1700 vs 1200sec).\n",
    "\n",
    "This time the validation accuracy stayed around 0.2. The model is still overfit, but I think is because of the size of training data and lack of stop word removal in preprocessing. "
   ]
  },
  {
   "cell_type": "markdown",
   "metadata": {},
   "source": [
    "## 6. Evaluating with test data"
   ]
  },
  {
   "cell_type": "code",
   "execution_count": 72,
   "metadata": {
    "collapsed": true
   },
   "outputs": [],
   "source": [
    "#Download and preprocess test data\n",
    "\n",
    "test_dir = os.path.join(case3_dir, 'test')\n",
    "\n",
    "test_labels = []\n",
    "test_texts = []\n",
    "\n",
    "for label_type in label_list:\n",
    "    dir_name = os.path.join(test_dir, label_type)\n",
    "    for fname in os.listdir(dir_name):\n",
    "        f = open(os.path.join(dir_name, fname))\n",
    "        test_texts.append(f.read())\n",
    "        f.close()\n",
    "        test_labels.append(label_list.index(label_type))\n",
    "\n",
    "test_sequences = tokenizer.texts_to_sequences(test_texts)\n",
    "x_test = pad_sequences(test_sequences, maxlen=maxlen)\n",
    "test_labels = np.asarray(test_labels)\n",
    "y_test = to_categorical(test_labels)"
   ]
  },
  {
   "cell_type": "code",
   "execution_count": 73,
   "metadata": {},
   "outputs": [
    {
     "name": "stdout",
     "output_type": "stream",
     "text": [
      "12733/12733 [==============================] - 31s 2ms/step\n"
     ]
    },
    {
     "data": {
      "text/plain": [
       "[4.2187468584284318, 0.081834602997737982]"
      ]
     },
     "execution_count": 73,
     "metadata": {},
     "output_type": "execute_result"
    }
   ],
   "source": [
    "# Evaluate model with test data\n",
    "# http://scikit-learn.org/stable/modules/model_evaluation.html\n",
    "\n",
    "model.evaluate(x_test, y_test)"
   ]
  },
  {
   "cell_type": "markdown",
   "metadata": {},
   "source": [
    "## 7. Results\n",
    "\n",
    "Model 2 achieved 8 % accuracy with test set. That is almost as bad as randomly guessing (1/23 = 0.0434) the classes. \n",
    "\n",
    "## 8. Testing the Pre-Trained GloVe Embedding\n",
    " \n",
    "As a final attempt I downloaded the glove6b pretrained model. I wanted to see if it could be used on this particular problem. \n",
    "\n",
    "At first I ran into decoding issue, which could be fixed with forcing the char-encoding to utf8."
   ]
  },
  {
   "cell_type": "code",
   "execution_count": 95,
   "metadata": {},
   "outputs": [
    {
     "name": "stdout",
     "output_type": "stream",
     "text": [
      "Loaded 400000 word vectors.\n",
      "_________________________________________________________________\n",
      "Layer (type)                 Output Shape              Param #   \n",
      "=================================================================\n",
      "embedding_7 (Embedding)      (None, 4, 100)            3085800   \n",
      "_________________________________________________________________\n",
      "flatten_2 (Flatten)          (None, 400)               0         \n",
      "_________________________________________________________________\n",
      "dense_6 (Dense)              (None, 1)                 401       \n",
      "=================================================================\n",
      "Total params: 3,086,201\n",
      "Trainable params: 401\n",
      "Non-trainable params: 3,085,800\n",
      "_________________________________________________________________\n",
      "None\n",
      "Elapsed time: 19.71 seconds\n"
     ]
    }
   ],
   "source": [
    "from numpy import asarray\n",
    "from numpy import zeros\n",
    "from keras.layers import Flatten\n",
    "\n",
    "t1 = time.time()\n",
    "\n",
    "vocab_size = len(tokenizer.word_index) + 1\n",
    "\n",
    "# load the whole embedding into memory\n",
    "embeddings_index = dict()\n",
    "f = open('glove.6B.100d.txt',encoding='utf8')\n",
    "for line in f:\n",
    "    values = line.split()\n",
    "    word = values[0]\n",
    "    coefs = asarray(values[1:], dtype='float32')\n",
    "    embeddings_index[word] = coefs\n",
    "f.close()\n",
    "print('Loaded %s word vectors.' % len(embeddings_index))\n",
    "\n",
    "# create a weight matrix for words in training docs\n",
    "embedding_matrix = zeros((vocab_size, 100))\n",
    "for word, i in tokenizer.word_index.items():\n",
    "    embedding_vector = embeddings_index.get(word)\n",
    "    if embedding_vector is not None:\n",
    "        embedding_matrix[i] = embedding_vector\n",
    "        \n",
    "# define model\n",
    "model = Sequential()\n",
    "e = Embedding(vocab_size, 100, weights=[embedding_matrix], input_length=4, trainable=False)\n",
    "model.add(e)\n",
    "model.add(Flatten())\n",
    "model.add(Dense(1, activation='sigmoid'))\n",
    "    \n",
    "# compile the model with adam optimizer\n",
    "model.compile(optimizer='adam', loss='binary_crossentropy', metrics=['acc'])\n",
    "\n",
    "# summarize the model\n",
    "print(model.summary())\n",
    "\n",
    "t2 = time.time()\n",
    "print('Elapsed time: {:.2f} seconds'.format((t2-t1)))\n"
   ]
  },
  {
   "cell_type": "markdown",
   "metadata": {},
   "source": [
    "Got the model loaded after few tweaks. But then got stuck trying to fit the data in for training. "
   ]
  },
  {
   "cell_type": "code",
   "execution_count": 103,
   "metadata": {},
   "outputs": [
    {
     "ename": "ValueError",
     "evalue": "Error when checking input: expected embedding_7_input to have shape (None, 4) but got array with shape (10433, 300)",
     "output_type": "error",
     "traceback": [
      "\u001b[1;31m---------------------------------------------------------------------------\u001b[0m",
      "\u001b[1;31mValueError\u001b[0m                                Traceback (most recent call last)",
      "\u001b[1;32m<ipython-input-103-a6c033ff3249>\u001b[0m in \u001b[0;36m<module>\u001b[1;34m()\u001b[0m\n\u001b[0;32m      2\u001b[0m model.fit(data, labels, \n\u001b[0;32m      3\u001b[0m           \u001b[0mepochs\u001b[0m\u001b[1;33m=\u001b[0m\u001b[1;36m10\u001b[0m\u001b[1;33m,\u001b[0m\u001b[1;33m\u001b[0m\u001b[0m\n\u001b[1;32m----> 4\u001b[1;33m           batch_size = 10)\n\u001b[0m\u001b[0;32m      5\u001b[0m \u001b[1;33m\u001b[0m\u001b[0m\n\u001b[0;32m      6\u001b[0m \u001b[1;31m# evaluate the model\u001b[0m\u001b[1;33m\u001b[0m\u001b[1;33m\u001b[0m\u001b[0m\n",
      "\u001b[1;32m~\\Anaconda3\\lib\\site-packages\\keras\\models.py\u001b[0m in \u001b[0;36mfit\u001b[1;34m(self, x, y, batch_size, epochs, verbose, callbacks, validation_split, validation_data, shuffle, class_weight, sample_weight, initial_epoch, steps_per_epoch, validation_steps, **kwargs)\u001b[0m\n\u001b[0;32m    958\u001b[0m                               \u001b[0minitial_epoch\u001b[0m\u001b[1;33m=\u001b[0m\u001b[0minitial_epoch\u001b[0m\u001b[1;33m,\u001b[0m\u001b[1;33m\u001b[0m\u001b[0m\n\u001b[0;32m    959\u001b[0m                               \u001b[0msteps_per_epoch\u001b[0m\u001b[1;33m=\u001b[0m\u001b[0msteps_per_epoch\u001b[0m\u001b[1;33m,\u001b[0m\u001b[1;33m\u001b[0m\u001b[0m\n\u001b[1;32m--> 960\u001b[1;33m                               validation_steps=validation_steps)\n\u001b[0m\u001b[0;32m    961\u001b[0m \u001b[1;33m\u001b[0m\u001b[0m\n\u001b[0;32m    962\u001b[0m     def evaluate(self, x, y, batch_size=32, verbose=1,\n",
      "\u001b[1;32m~\\Anaconda3\\lib\\site-packages\\keras\\engine\\training.py\u001b[0m in \u001b[0;36mfit\u001b[1;34m(self, x, y, batch_size, epochs, verbose, callbacks, validation_split, validation_data, shuffle, class_weight, sample_weight, initial_epoch, steps_per_epoch, validation_steps, **kwargs)\u001b[0m\n\u001b[0;32m   1579\u001b[0m             \u001b[0mclass_weight\u001b[0m\u001b[1;33m=\u001b[0m\u001b[0mclass_weight\u001b[0m\u001b[1;33m,\u001b[0m\u001b[1;33m\u001b[0m\u001b[0m\n\u001b[0;32m   1580\u001b[0m             \u001b[0mcheck_batch_axis\u001b[0m\u001b[1;33m=\u001b[0m\u001b[1;32mFalse\u001b[0m\u001b[1;33m,\u001b[0m\u001b[1;33m\u001b[0m\u001b[0m\n\u001b[1;32m-> 1581\u001b[1;33m             batch_size=batch_size)\n\u001b[0m\u001b[0;32m   1582\u001b[0m         \u001b[1;31m# Prepare validation data.\u001b[0m\u001b[1;33m\u001b[0m\u001b[1;33m\u001b[0m\u001b[0m\n\u001b[0;32m   1583\u001b[0m         \u001b[0mdo_validation\u001b[0m \u001b[1;33m=\u001b[0m \u001b[1;32mFalse\u001b[0m\u001b[1;33m\u001b[0m\u001b[0m\n",
      "\u001b[1;32m~\\Anaconda3\\lib\\site-packages\\keras\\engine\\training.py\u001b[0m in \u001b[0;36m_standardize_user_data\u001b[1;34m(self, x, y, sample_weight, class_weight, check_batch_axis, batch_size)\u001b[0m\n\u001b[0;32m   1412\u001b[0m                                     \u001b[0mself\u001b[0m\u001b[1;33m.\u001b[0m\u001b[0m_feed_input_shapes\u001b[0m\u001b[1;33m,\u001b[0m\u001b[1;33m\u001b[0m\u001b[0m\n\u001b[0;32m   1413\u001b[0m                                     \u001b[0mcheck_batch_axis\u001b[0m\u001b[1;33m=\u001b[0m\u001b[1;32mFalse\u001b[0m\u001b[1;33m,\u001b[0m\u001b[1;33m\u001b[0m\u001b[0m\n\u001b[1;32m-> 1414\u001b[1;33m                                     exception_prefix='input')\n\u001b[0m\u001b[0;32m   1415\u001b[0m         y = _standardize_input_data(y, self._feed_output_names,\n\u001b[0;32m   1416\u001b[0m                                     \u001b[0moutput_shapes\u001b[0m\u001b[1;33m,\u001b[0m\u001b[1;33m\u001b[0m\u001b[0m\n",
      "\u001b[1;32m~\\Anaconda3\\lib\\site-packages\\keras\\engine\\training.py\u001b[0m in \u001b[0;36m_standardize_input_data\u001b[1;34m(data, names, shapes, check_batch_axis, exception_prefix)\u001b[0m\n\u001b[0;32m    151\u001b[0m                             \u001b[1;34m' to have shape '\u001b[0m \u001b[1;33m+\u001b[0m \u001b[0mstr\u001b[0m\u001b[1;33m(\u001b[0m\u001b[0mshapes\u001b[0m\u001b[1;33m[\u001b[0m\u001b[0mi\u001b[0m\u001b[1;33m]\u001b[0m\u001b[1;33m)\u001b[0m \u001b[1;33m+\u001b[0m\u001b[1;33m\u001b[0m\u001b[0m\n\u001b[0;32m    152\u001b[0m                             \u001b[1;34m' but got array with shape '\u001b[0m \u001b[1;33m+\u001b[0m\u001b[1;33m\u001b[0m\u001b[0m\n\u001b[1;32m--> 153\u001b[1;33m                             str(array.shape))\n\u001b[0m\u001b[0;32m    154\u001b[0m     \u001b[1;32mreturn\u001b[0m \u001b[0marrays\u001b[0m\u001b[1;33m\u001b[0m\u001b[0m\n\u001b[0;32m    155\u001b[0m \u001b[1;33m\u001b[0m\u001b[0m\n",
      "\u001b[1;31mValueError\u001b[0m: Error when checking input: expected embedding_7_input to have shape (None, 4) but got array with shape (10433, 300)"
     ]
    }
   ],
   "source": [
    "# fit the model\n",
    "model.fit(data, labels, \n",
    "          epochs=10, \n",
    "          batch_size = 10)\n",
    "\n",
    "# evaluate the model\n",
    "loss, accuracy = model.evaluate(data, labels, verbose=1)\n",
    "print('Accuracy: %f' % (accuracy*100))"
   ]
  },
  {
   "cell_type": "code",
   "execution_count": null,
   "metadata": {
    "collapsed": true
   },
   "outputs": [],
   "source": []
  }
 ],
 "metadata": {
  "kernelspec": {
   "display_name": "Python 3",
   "language": "python",
   "name": "python3"
  },
  "language_info": {
   "codemirror_mode": {
    "name": "ipython",
    "version": 3
   },
   "file_extension": ".py",
   "mimetype": "text/x-python",
   "name": "python",
   "nbconvert_exporter": "python",
   "pygments_lexer": "ipython3",
   "version": "3.6.3"
  }
 },
 "nbformat": 4,
 "nbformat_minor": 2
}
