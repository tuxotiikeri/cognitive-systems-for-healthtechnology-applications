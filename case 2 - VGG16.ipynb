{
 "cells": [
  {
   "cell_type": "markdown",
   "metadata": {},
   "source": [
    "# Case 2 - Diabetic Retinopathy\n",
    "23.2.2018 (last modified)<br>\n",
    "Tom Thiel<br>\n",
    "Metropolia UAS<br>\n",
    "\n",
    "\n",
    "Diabetic retinopathy (DR) is the leading cause of blindness in the working-age population of the developed world and is estimated to affect over 93 million people. The grading process consists of recognising very fine details, such as microaneurysms, to some bigger features, such as exudates, and sometimes their position relative to each other on images of the eye. \n",
    "\n",
    "https://www.kaggle.com/c/diabetic-retinopathy-detection\n",
    "\n",
    "DR is a treatable condition when detected early enough. Development of the disease can be divided into 5 steps, from healthy (no DR) to proliferative DR. Problem is recogninsing these fine details to make clinical decisions. When showing the same picture from the data set to two Ophthalmologists, they can agree on the diagnose on 60 % of the time. What is more terrifying is that showing the same image to same Ophthalmologist few hours apart, they agree on the diagnose 65 % of the time. That's why the data set used in Kaggle is labeled in consesus of 7 Ophthalmologist. \n",
    "\n",
    "http://www.heidelberg-laureate-forum.org/blog/video/lecture-tuesday-september-26-2017-jeffrey-a-dean/ (~10min mark)\n",
    "\n",
    "\n",
    "### Normal retina\n",
    "\n",
    "<img src=\"img/normal-retina-180px.jpg\" align=\"left\">\n",
    "<br>\n",
    "<br>\n",
    "<br>\n",
    "<br>\n",
    "<br>\n",
    "<br>\n",
    "\n",
    "### Diabetic Retina \n",
    "<img src=\"img/diabet-retina-180px.jpg\" align=\"left\">\n",
    "\n",
    "<br>\n",
    "<br>\n",
    "<br>\n",
    "<br>\n",
    "<br>\n",
    "<br>\n",
    "<br>\n",
    "<br>\n",
    "https://www.aao.org/eye-health/diseases/what-is-diabetic-retinopathy"
   ]
  },
  {
   "cell_type": "markdown",
   "metadata": {},
   "source": [
    "## 1. Objectives<br>\n",
    "\n",
    "Objective of this assignemnt is to create model for finding showing signs of diabetic retinopathy from data set of fundus images. A deep convolutional neural network will be developed to classify healthy and the pathological ones. This is a binary classification task."
   ]
  },
  {
   "cell_type": "markdown",
   "metadata": {},
   "source": [
    "## 2. Import Libraries"
   ]
  },
  {
   "cell_type": "code",
   "execution_count": 5,
   "metadata": {},
   "outputs": [
    {
     "name": "stderr",
     "output_type": "stream",
     "text": [
      "Using TensorFlow backend.\n"
     ]
    }
   ],
   "source": [
    "import numpy as np\n",
    "import tensorflow as tf\n",
    "import matplotlib.pyplot as plt\n",
    "import keras\n",
    "from keras import layers\n",
    "from keras import models\n",
    "from keras import optimizers\n",
    "import time\n",
    "\n",
    "from sklearn.metrics import roc_curve, roc_auc_score\n",
    "\n",
    "#importing VGG16 pre-trained model\n",
    "from keras.applications import VGG16"
   ]
  },
  {
   "cell_type": "code",
   "execution_count": 6,
   "metadata": {},
   "outputs": [
    {
     "name": "stdout",
     "output_type": "stream",
     "text": [
      "[name: \"/cpu:0\"\n",
      "device_type: \"CPU\"\n",
      "memory_limit: 268435456\n",
      "locality {\n",
      "}\n",
      "incarnation: 17367372874227976303\n",
      "]\n"
     ]
    }
   ],
   "source": [
    "#tried to insall CUDA and theano to run tensorflow-gpu, but couldn't get it to work.\n",
    "#import theano \n",
    "#theano.config.device = 'gpu'\n",
    "#theano.config.floatX = 'float32'  \n",
    "\n",
    "#cheking the on witch device the script is running.\n",
    "from tensorflow.python.client import device_lib\n",
    "print(device_lib.list_local_devices())\n",
    "\n",
    "def get_available_gpus():\n",
    "    local_device_protos = device_lib.list_local_devices()\n",
    "    return [x.name for x in local_device_protos if x.device_type == 'GPU']\n"
   ]
  },
  {
   "cell_type": "markdown",
   "metadata": {},
   "source": [
    "No GPU found, so TensorFlow runs the script on CPU. 8 logical cores @ 4.8 GHz should be sufficient for training the network in couple of hours, but a GPU setup would be preferable. \n",
    "\n",
    "For demostration a 90 sec video of comparative abilites of CPU and GPU in floating point calculation.\n",
    "<a href=\"https://www.youtube.com/watch?v=-P28LKWTzrI\" target=\"_blank\">Demo GPU versus CPU</a>"
   ]
  },
  {
   "cell_type": "markdown",
   "metadata": {},
   "source": [
    "## 3. Building library\n"
   ]
  },
  {
   "cell_type": "code",
   "execution_count": 7,
   "metadata": {},
   "outputs": [
    {
     "name": "stdout",
     "output_type": "stream",
     "text": [
      "_________________________________________________________________\n",
      "Layer (type)                 Output Shape              Param #   \n",
      "=================================================================\n",
      "vgg16 (Model)                (None, 8, 8, 512)         14714688  \n",
      "_________________________________________________________________\n",
      "flatten_1 (Flatten)          (None, 32768)             0         \n",
      "_________________________________________________________________\n",
      "dense_1 (Dense)              (None, 256)               8388864   \n",
      "_________________________________________________________________\n",
      "dense_2 (Dense)              (None, 1)                 257       \n",
      "=================================================================\n",
      "Total params: 23,103,809\n",
      "Trainable params: 23,103,809\n",
      "Non-trainable params: 0\n",
      "_________________________________________________________________\n"
     ]
    }
   ],
   "source": [
    "#Using the weights from imagenet for initializing the weights\n",
    "conv_base = VGG16(weights='imagenet',\n",
    "                  include_top=False,\n",
    "                  input_shape=(256, 256, 3))\n",
    "\n",
    "# Feeding the network all the images in size of 256x256 px and with dimension of 3 as red, green and blue.\n",
    "\n",
    "model = models.Sequential()\n",
    "model.add(conv_base)\n",
    "model.add(layers.Flatten())\n",
    "model.add(layers.Dense(256, activation='relu'))\n",
    "model.add(layers.Dense(1, activation='sigmoid'))\n",
    "\n",
    "#show model layers and parameters\n",
    "model.summary()"
   ]
  },
  {
   "cell_type": "markdown",
   "metadata": {},
   "source": [
    "The network has total of 23M parameters."
   ]
  },
  {
   "cell_type": "code",
   "execution_count": 8,
   "metadata": {},
   "outputs": [
    {
     "name": "stdout",
     "output_type": "stream",
     "text": [
      "number of trainable weights 30\n",
      "this is the number of trainable weights\n",
      "number of trainable weights 4\n"
     ]
    }
   ],
   "source": [
    "print('number of trainable weights', len(model.trainable_weights))\n",
    "conv_base.trainable = False\n",
    "print('this is the number of trainable weights')\n",
    "print('number of trainable weights', len(model.trainable_weights))"
   ]
  },
  {
   "cell_type": "code",
   "execution_count": 9,
   "metadata": {
    "collapsed": true
   },
   "outputs": [],
   "source": [
    "model.compile(loss='binary_crossentropy',\n",
    "              optimizer=optimizers.RMSprop(lr=1e-4), #learning rate\n",
    "              metrics=['acc'])"
   ]
  },
  {
   "cell_type": "markdown",
   "metadata": {},
   "source": [
    "## 4. Data preprocessing\n",
    "\n",
    "The data set was first split into training, validation and test subsets.\n",
    "\n",
    "The images are then prosessed with imagedatagenerator. RGB coefficients are rescaled from 0-255 into values betwen 0 and 1. Rescaling makes the learning faster for the model. \n"
   ]
  },
  {
   "cell_type": "code",
   "execution_count": 10,
   "metadata": {},
   "outputs": [
    {
     "name": "stdout",
     "output_type": "stream",
     "text": [
      "Found 1729 images belonging to 2 classes.\n",
      "Found 749 images belonging to 2 classes.\n"
     ]
    }
   ],
   "source": [
    "from keras.preprocessing.image import ImageDataGenerator\n",
    "\n",
    "train_dir = \"dataset2\\\\train\"\n",
    "validation_dir = \"dataset2\\\\validation\"\n",
    "test_dir = \"dataset2\\\\test\"\n",
    "\n",
    "# All images will be rescaled by 1./255\n",
    "train_datagen = ImageDataGenerator(\n",
    "    rescale=1./255, \n",
    "    zoom_range=0.3, # zooming the images 30%\n",
    "    horizontal_flip=True, \n",
    "    fill_mode='nearest')\n",
    "\n",
    "validation_datagen = validation_datagen = ImageDataGenerator(\n",
    "    rescale=1./255,\n",
    "    zoom_range=0.3,\n",
    "    horizontal_flip=True,\n",
    "    fill_mode='nearest')\n",
    "\n",
    "#test data will not be manipulated. It's test as is.\n",
    "test_datagen = ImageDataGenerator(rescale=1./255)\n",
    "\n",
    "#training generator using the training data\n",
    "train_generator = train_datagen.flow_from_directory(\n",
    "        # This is the target directory\n",
    "        train_dir,\n",
    "        # All images will be resized to 256x256\n",
    "        target_size=(256, 256),\n",
    "        batch_size=20,\n",
    "        # Since we use binary_crossentropy loss, we need binary labels\n",
    "        class_mode='binary')\n",
    "\n",
    "#validation generator for to se how the model is training\n",
    "validation_generator = validation_datagen.flow_from_directory(\n",
    "        validation_dir,\n",
    "        target_size=(256, 256),\n",
    "        batch_size=20,\n",
    "        class_mode='binary')\n",
    "\n",
    "\n",
    "model.save('case2combined.h5')"
   ]
  },
  {
   "cell_type": "markdown",
   "metadata": {},
   "source": [
    "1729 images for trainng.<br>\n",
    "749 images for validation. "
   ]
  },
  {
   "cell_type": "code",
   "execution_count": 11,
   "metadata": {},
   "outputs": [
    {
     "name": "stdout",
     "output_type": "stream",
     "text": [
      "data batch shape: (20, 256, 256, 3)\n",
      "labels batch shape: (20,)\n"
     ]
    }
   ],
   "source": [
    "#testing testing testing\n",
    "for data_batch, labels_batch in train_generator:\n",
    "    print('data batch shape:', data_batch.shape)\n",
    "    print('labels batch shape:', labels_batch.shape)\n",
    "    break"
   ]
  },
  {
   "cell_type": "markdown",
   "metadata": {},
   "source": [
    "## 5. Modeling"
   ]
  },
  {
   "cell_type": "code",
   "execution_count": 12,
   "metadata": {},
   "outputs": [
    {
     "name": "stdout",
     "output_type": "stream",
     "text": [
      "Epoch 1/10\n",
      "30/30 [==============================] - 390s 13s/step - loss: 0.8031 - acc: 0.6217 - val_loss: 0.5340 - val_acc: 0.7200\n",
      "Epoch 2/10\n",
      "30/30 [==============================] - 362s 12s/step - loss: 0.5768 - acc: 0.7166 - val_loss: 0.5129 - val_acc: 0.7400\n",
      "Epoch 3/10\n",
      "30/30 [==============================] - 364s 12s/step - loss: 0.5920 - acc: 0.7050 - val_loss: 0.5728 - val_acc: 0.7000\n",
      "Epoch 4/10\n",
      "30/30 [==============================] - 371s 12s/step - loss: 0.5598 - acc: 0.7117 - val_loss: 0.5826 - val_acc: 0.7000\n",
      "Epoch 5/10\n",
      "30/30 [==============================] - 370s 12s/step - loss: 0.5465 - acc: 0.7250 - val_loss: 0.5049 - val_acc: 0.7100\n",
      "Epoch 6/10\n",
      "30/30 [==============================] - 364s 12s/step - loss: 0.5349 - acc: 0.7292 - val_loss: 0.4943 - val_acc: 0.7400\n",
      "Epoch 7/10\n",
      "30/30 [==============================] - 368s 12s/step - loss: 0.5371 - acc: 0.7217 - val_loss: 0.6357 - val_acc: 0.6800\n",
      "Epoch 8/10\n",
      "30/30 [==============================] - 360s 12s/step - loss: 0.5370 - acc: 0.7330 - val_loss: 0.5208 - val_acc: 0.7528\n",
      "Epoch 9/10\n",
      "30/30 [==============================] - 373s 12s/step - loss: 0.5536 - acc: 0.7050 - val_loss: 0.4682 - val_acc: 0.7700\n",
      "Epoch 10/10\n",
      "30/30 [==============================] - 363s 12s/step - loss: 0.5476 - acc: 0.7283 - val_loss: 0.5546 - val_acc: 0.7000\n",
      "Time elapsed: 3686.00 sec\n"
     ]
    }
   ],
   "source": [
    "#start timer to see how long the trainig takes.\n",
    "tStart = time.time()\n",
    "\n",
    "history = model.fit_generator(\n",
    "      train_generator,\n",
    "      steps_per_epoch=30, #\n",
    "      verbose = 1, # show\n",
    "      epochs=10,\n",
    "      validation_data=validation_generator,\n",
    "      validation_steps=5)\n",
    "\n",
    "#stop the timer\n",
    "tStop = time.time()\n",
    "tElapsed = tStop - tStart\n",
    "print('Time elapsed: {:.2f} sec'.format(tElapsed))"
   ]
  },
  {
   "cell_type": "code",
   "execution_count": 24,
   "metadata": {},
   "outputs": [
    {
     "name": "stdout",
     "output_type": "stream",
     "text": [
      "Elapset time 1.02 hours.\n",
      "Time perc epoch 0.20 minutes.\n"
     ]
    }
   ],
   "source": [
    "print('Elapset time {:.2f} hours.'.format((tStop-tStart)/3600)) \n",
    "print('Time perc epoch {:.2f} minutes.'.format((tStop-tStart)/300/60))\n",
    "model.save('case2_run_4.h5') "
   ]
  },
  {
   "cell_type": "markdown",
   "metadata": {},
   "source": [
    "Picture showing the CPU-usage of TensorFlow During the training.\n",
    "\n",
    "<img src=\"img/cpu-usage.jpg\" align=\"left\">\n",
    "\n"
   ]
  },
  {
   "cell_type": "markdown",
   "metadata": {},
   "source": [
    "## 6. Results\n"
   ]
  },
  {
   "cell_type": "code",
   "execution_count": 30,
   "metadata": {},
   "outputs": [
    {
     "data": {
      "image/png": "[encoded data removed]",
      "text/plain": [
       "<matplotlib.figure.Figure at 0x14600e23c50>"
      ]
     },
     "metadata": {},
     "output_type": "display_data"
    },
    {
     "data": {
      "image/png": "[encoded data removed]",
      "text/plain": [
       "<matplotlib.figure.Figure at 0x14600e51ef0>"
      ]
     },
     "metadata": {},
     "output_type": "display_data"
    }
   ],
   "source": [
    "acc = history.history['acc']\n",
    "val_acc = history.history['val_acc']\n",
    "loss = history.history['loss']\n",
    "val_loss = history.history['val_loss']\n",
    "\n",
    "epochs = range(len(acc))\n",
    "\n",
    "plt.figure()\n",
    "\n",
    "plt.plot(epochs, acc, 'bo', label='Training acc')\n",
    "plt.plot(epochs, val_acc, 'b', label='Validation acc')\n",
    "plt.title('Training and validation accuracy')\n",
    "plt.ylim([0, 1])\n",
    "plt.grid()\n",
    "plt.xlabel('Epochs')\n",
    "plt.legend()\n",
    "\n",
    "plt.figure()\n",
    "\n",
    "plt.plot(epochs, loss, 'bo', label='Training loss')\n",
    "plt.plot(epochs, val_loss, 'b', label='Validation loss')\n",
    "plt.title('Training and validation loss')\n",
    "plt.ylim([0, 1])\n",
    "plt.grid()\n",
    "plt.xlabel('Epochs')\n",
    "plt.legend()\n",
    "\n",
    "plt.show()"
   ]
  },
  {
   "cell_type": "markdown",
   "metadata": {},
   "source": [
    "Validation accuracy fluctuating between .7 - .77\n",
    "Same goes with the validation loss it fluctuaes and doesn't have distinguishable direction. It doesn't get more accurate after the first epoch.\n",
    "The ImageNet pre-trained weights seem to have alot higher level recognition already in them."
   ]
  },
  {
   "cell_type": "markdown",
   "metadata": {},
   "source": [
    "## 7. Test the model\n",
    "\n"
   ]
  },
  {
   "cell_type": "code",
   "execution_count": 15,
   "metadata": {},
   "outputs": [
    {
     "name": "stdout",
     "output_type": "stream",
     "text": [
      "Found 735 images belonging to 2 classes.\n"
     ]
    },
    {
     "data": {
      "text/plain": [
       "[0.48897813118639444, 0.75238095011029926]"
      ]
     },
     "execution_count": 15,
     "metadata": {},
     "output_type": "execute_result"
    }
   ],
   "source": [
    "test_generator = test_datagen.flow_from_directory(\n",
    "        test_dir,\n",
    "        target_size=(256, 256),\n",
    "        batch_size=20,\n",
    "        class_mode='binary')\n",
    "\n",
    "r = model.evaluate_generator(test_generator, steps=21)\n",
    "\n",
    "#loss and accuracy\n",
    "r"
   ]
  },
  {
   "cell_type": "markdown",
   "metadata": {},
   "source": [
    "For the test set accuracy is 75 %."
   ]
  },
  {
   "cell_type": "markdown",
   "metadata": {},
   "source": [
    "## 8. Predict the score"
   ]
  },
  {
   "cell_type": "code",
   "execution_count": 16,
   "metadata": {
    "collapsed": true
   },
   "outputs": [],
   "source": [
    "#initialize values for the test set\n",
    "y_true = np.zeros(735)\n",
    "y_score = np.zeros(735)\n",
    "sample_count = 735\n",
    "\n",
    "i = 0\n",
    "for inputs_batch, labels_batch in test_generator:\n",
    "    predicts_batch = model.predict(inputs_batch)\n",
    "    L = labels_batch.shape[0]\n",
    "    index = range(i, i + L)\n",
    "    y_true[index] = labels_batch.ravel()\n",
    "    y_score[index] = predicts_batch.ravel()\n",
    "    i = i + L\n",
    "    if i >= sample_count:\n",
    "        break"
   ]
  },
  {
   "cell_type": "markdown",
   "metadata": {},
   "source": [
    "## 8.1 Calculate ROC and AUC\n",
    "\n",
    "Sensitivity and specifity are expressions used in diagnosis. Positive in diagnosis means that the person is clinically recogninsed as diseased. Negative means that the person is healthy.\n",
    "\n",
    "<b>Sensitivity</b> also called the true positive rate, the recall, or probability of detection, means how many of the diseased are found.\n",
    "\n",
    "<b>Specificity</b> meaning measures the proportion of negatives that are correctly identified as such. \n",
    "\n",
    "<b>ROC</b> curve illustrates the diagnostic ability of a binary classifier system as its discrimination threshold is varied. ROC curve is created plotting the true positive rate (TPR, sensitivity) against the false positive rate (FPR, false alarm). \n",
    "\n",
    "<b>AUC</b> just means the Area Under the Curve.\n",
    "\n",
    "https://en.wikipedia.org/wiki/Receiver_operating_characteristic"
   ]
  },
  {
   "cell_type": "code",
   "execution_count": 17,
   "metadata": {},
   "outputs": [
    {
     "data": {
      "image/png": "[encoded data removed]",
      "text/plain": [
       "<matplotlib.figure.Figure at 0x14660df1ba8>"
      ]
     },
     "metadata": {},
     "output_type": "display_data"
    },
    {
     "data": {
      "image/png": "[encoded data removed]",
      "text/plain": [
       "<matplotlib.figure.Figure at 0x14600d8a080>"
      ]
     },
     "metadata": {},
     "output_type": "display_data"
    }
   ],
   "source": [
    "fpr, tpr, thresholds = roc_curve(y_true, y_score)\n",
    "auc = roc_auc_score(y_true, y_score)\n",
    "\n",
    "#plotting the ROC / AOC \n",
    "plt.figure()\n",
    "plt.plot(fpr, tpr)\n",
    "plt.plot([0, 1]), [0, 1, '--']\n",
    "plt.grid()\n",
    "plt.xlabel('False Positive Rate')\n",
    "plt.ylabel('True Positive Rate')\n",
    "plt.title('Roc curve AUC = {:.3f}'.format(auc))\n",
    "plt.show()\n",
    "\n",
    "#plotting sensitivity and specificity\n",
    "plt.figure()\n",
    "plt.plot(thresholds, 1-fpr, label = 'specificity')\n",
    "plt.plot(thresholds, tpr, label = 'sensitivity')\n",
    "plt.legend()\n",
    "plt.grid()\n",
    "plt.xlabel('Threshold value')\n",
    "plt.show()"
   ]
  },
  {
   "cell_type": "code",
   "execution_count": 18,
   "metadata": {
    "collapsed": true
   },
   "outputs": [],
   "source": [
    "#import the libraries for confusion matrix\n",
    "from sklearn.metrics import accuracy_score, precision_score, f1_score, confusion_matrix\n",
    "from sklearn.metrics import classification_report, recall_score\n",
    "from sklearn.metrics import precision_recall_curve\n",
    "from sklearn.metrics import average_precision_score"
   ]
  },
  {
   "cell_type": "code",
   "execution_count": 25,
   "metadata": {},
   "outputs": [
    {
     "data": {
      "text/plain": [
       "0.17"
      ]
     },
     "execution_count": 25,
     "metadata": {},
     "output_type": "execute_result"
    }
   ],
   "source": [
    "# select the threshold to maximize both specifity and sensitivity\n",
    "th = 0.17\n",
    "th"
   ]
  },
  {
   "cell_type": "code",
   "execution_count": 26,
   "metadata": {},
   "outputs": [],
   "source": [
    "#bulding the confusion matrix\n",
    "acc = accuracy_score(y_true, y_score > th)\n",
    "prec = precision_score(y_true, y_score > th)\n",
    "f1 = f1_score(y_true, y_score > th)\n",
    "recall = recall_score(y_true, y_score > th)\n",
    "\n",
    "#print('acc: {:,3f}'.format(acc))\n",
    "#print('prec: {:, 3f}',format(prec))\n",
    "#print('f1:   {:, 3f}',format(f1))\n",
    "#print('recc: {:, 3f}'.format(recall))"
   ]
  },
  {
   "cell_type": "code",
   "execution_count": 27,
   "metadata": {},
   "outputs": [
    {
     "name": "stdout",
     "output_type": "stream",
     "text": [
      "classification report\n",
      "             precision    recall  f1-score   support\n",
      "\n",
      "    Disease       0.56      0.73      0.63       209\n",
      "    Healthy       0.88      0.77      0.82       526\n",
      "\n",
      "avg / total       0.79      0.76      0.77       735\n",
      "\n"
     ]
    }
   ],
   "source": [
    "print('classification report')\n",
    "print(classification_report(y_true, y_score > th, labels = [1.0, 0.0], target_names = ['Disease', 'Healthy']))"
   ]
  },
  {
   "cell_type": "markdown",
   "metadata": {},
   "source": [
    "Precision for finding the diseased is 56 %, which is almost the same as tossing a coin. \n",
    "\n",
    "The model finds the healthy samples with 88 % accuracy."
   ]
  },
  {
   "cell_type": "code",
   "execution_count": 29,
   "metadata": {},
   "outputs": [
    {
     "name": "stdout",
     "output_type": "stream",
     "text": [
      "                    Confusion matrix\n",
      "\n",
      "                     Positive Negative      Sum\n",
      "Predicted | Positive      152      121      273\n",
      "Condition | Negative       57      405      462\n",
      "                 Sum      209      526      735\n",
      "\n",
      "sensitivity 0.727\n",
      "specificity 0.770\n"
     ]
    }
   ],
   "source": [
    "#Build the confusion matrix\n",
    "tn, fp, fn, tp = confusion_matrix(y_true, y_score > th).ravel()\n",
    "\n",
    "print('                    Confusion matrix')\n",
    "print()\n",
    "print('                     Positive Negative      Sum')\n",
    "print('Predicted | Positive {:8} {:8} {:8}'.format(tp, fp, tp + fp))\n",
    "print('Condition | Negative {:8} {:8} {:8}'.format(fn, tn, fn + tn))\n",
    "print('                 Sum {:8} {:8} {:8}'.format(tp + fn, fp + tn, tp + fp + fn + tn))\n",
    "print()\n",
    "\n",
    "print('sensitivity {:.3f}'.format(tp/(tp+fn)))\n",
    "print('specificity {:.3f}'.format(tn/(tn+fp)))"
   ]
  },
  {
   "cell_type": "markdown",
   "metadata": {},
   "source": [
    "## 9. Discussion\n",
    "\n",
    "Looking the Kaggle competitions leaderboard reports, it seems that a major problem with clinical image recongisation data are the artefacts from cameras and lenses. And they are different in every laboraty. To ensure data quality carefull preprosessing steps should be taken reduce the showing of the artefacts.  \n",
    "\n",
    "It quickly came apparent that I had no skills to preprocess the data correctly. So I just started to play with the network architecture. After trying few models own of my own and testing couple of models found on the Kaggle competition leaderboard documentary I draw to conclusion that the models were useless without well preprosessed data. Many of the competition entries also used 200 epochs and multiple sequential models. No time for that.\n",
    "\n",
    "So I just went with the pre-trained VGG16-model on tensorflow. Used the imagenet weights and got results for 73 % sensitivity and 77 % specifity. As a binary classifier that is nothing to cheer for. \n",
    "\n",
    "<b>Automated detection lives up to the hype. </b> In the Journal of the American Medical Assosiation an article was published with validation of deep neural network system detecting vision-threatening diabetic retinopathy with 100% sensitivity and 91.1% specificity. That means that 100 % of the retinopathy cases were found and 91 % of the healthy individuals were diagnosed as healthy.\n",
    "\n",
    "<img src=\"img/Untitled.jpg\">\n",
    "\n",
    "\n",
    "\n",
    "https://jamanetwork.com/journals/jama/article-abstract/2665775?redirect=true\n"
   ]
  },
  {
   "cell_type": "code",
   "execution_count": null,
   "metadata": {
    "collapsed": true
   },
   "outputs": [],
   "source": []
  }
 ],
 "metadata": {
  "kernelspec": {
   "display_name": "Python 3",
   "language": "python",
   "name": "python3"
  },
  "language_info": {
   "codemirror_mode": {
    "name": "ipython",
    "version": 3
   },
   "file_extension": ".py",
   "mimetype": "text/x-python",
   "name": "python",
   "nbconvert_exporter": "python",
   "pygments_lexer": "ipython3",
   "version": "3.6.3"
  }
 },
 "nbformat": 4,
 "nbformat_minor": 2
}
