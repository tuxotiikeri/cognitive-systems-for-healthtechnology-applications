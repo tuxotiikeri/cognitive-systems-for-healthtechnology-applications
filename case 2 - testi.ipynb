{
 "cells": [
  {
   "cell_type": "markdown",
   "metadata": {},
   "source": [
    "## Case 2 - First trial"
   ]
  },
  {
   "cell_type": "markdown",
   "metadata": {},
   "source": [
    "## 1. Objectives<br>\n",
    "Objective of this assignemnt is to "
   ]
  },
  {
   "cell_type": "markdown",
   "metadata": {},
   "source": [
    "## 2. Import Libraries"
   ]
  },
  {
   "cell_type": "code",
   "execution_count": 6,
   "metadata": {},
   "outputs": [
    {
     "ename": "MissingSectionHeaderError",
     "evalue": "File contains no section headers.\nfile: 'C:\\\\Users\\\\Euno/.theanorc', line: 1\n'ï»¿[global]\\n'",
     "output_type": "error",
     "traceback": [
      "\u001b[1;31m---------------------------------------------------------------------------\u001b[0m",
      "\u001b[1;31mMissingSectionHeaderError\u001b[0m                 Traceback (most recent call last)",
      "\u001b[1;32m<ipython-input-6-1f085021c1a4>\u001b[0m in \u001b[0;36m<module>\u001b[1;34m()\u001b[0m\n\u001b[0;32m      4\u001b[0m \u001b[1;32mimport\u001b[0m \u001b[0mkeras\u001b[0m\u001b[1;33m\u001b[0m\u001b[0m\n\u001b[0;32m      5\u001b[0m \u001b[1;33m\u001b[0m\u001b[0m\n\u001b[1;32m----> 6\u001b[1;33m \u001b[1;32mimport\u001b[0m \u001b[0mtheano\u001b[0m\u001b[1;33m\u001b[0m\u001b[0m\n\u001b[0m\u001b[0;32m      7\u001b[0m \u001b[0mtheano\u001b[0m\u001b[1;33m.\u001b[0m\u001b[0mconfig\u001b[0m\u001b[1;33m.\u001b[0m\u001b[0mdevice\u001b[0m \u001b[1;33m=\u001b[0m \u001b[1;34m'gpu'\u001b[0m\u001b[1;33m\u001b[0m\u001b[0m\n\u001b[0;32m      8\u001b[0m \u001b[0mtheano\u001b[0m\u001b[1;33m.\u001b[0m\u001b[0mconfig\u001b[0m\u001b[1;33m.\u001b[0m\u001b[0mfloatX\u001b[0m \u001b[1;33m=\u001b[0m \u001b[1;34m'float32'\u001b[0m\u001b[1;33m\u001b[0m\u001b[0m\n",
      "\u001b[1;32m~\\Anaconda3\\lib\\site-packages\\theano\\__init__.py\u001b[0m in \u001b[0;36m<module>\u001b[1;34m()\u001b[0m\n\u001b[0;32m     86\u001b[0m \u001b[1;33m\u001b[0m\u001b[0m\n\u001b[0;32m     87\u001b[0m \u001b[1;33m\u001b[0m\u001b[0m\n\u001b[1;32m---> 88\u001b[1;33m \u001b[1;32mfrom\u001b[0m \u001b[0mtheano\u001b[0m\u001b[1;33m.\u001b[0m\u001b[0mconfigdefaults\u001b[0m \u001b[1;32mimport\u001b[0m \u001b[0mconfig\u001b[0m\u001b[1;33m\u001b[0m\u001b[0m\n\u001b[0m\u001b[0;32m     89\u001b[0m \u001b[1;32mfrom\u001b[0m \u001b[0mtheano\u001b[0m\u001b[1;33m.\u001b[0m\u001b[0mconfigparser\u001b[0m \u001b[1;32mimport\u001b[0m \u001b[0mchange_flags\u001b[0m\u001b[1;33m\u001b[0m\u001b[0m\n\u001b[0;32m     90\u001b[0m \u001b[1;33m\u001b[0m\u001b[0m\n",
      "\u001b[1;32m~\\Anaconda3\\lib\\site-packages\\theano\\configdefaults.py\u001b[0m in \u001b[0;36m<module>\u001b[1;34m()\u001b[0m\n\u001b[0;32m     15\u001b[0m \u001b[1;33m\u001b[0m\u001b[0m\n\u001b[0;32m     16\u001b[0m \u001b[1;32mimport\u001b[0m \u001b[0mtheano\u001b[0m\u001b[1;33m\u001b[0m\u001b[0m\n\u001b[1;32m---> 17\u001b[1;33m from theano.configparser import (AddConfigVar, BoolParam, ConfigParam, EnumStr,\n\u001b[0m\u001b[0;32m     18\u001b[0m                                  \u001b[0mFloatParam\u001b[0m\u001b[1;33m,\u001b[0m \u001b[0mIntParam\u001b[0m\u001b[1;33m,\u001b[0m \u001b[0mStrParam\u001b[0m\u001b[1;33m,\u001b[0m\u001b[1;33m\u001b[0m\u001b[0m\n\u001b[0;32m     19\u001b[0m                                  TheanoConfigParser, THEANO_FLAGS_DICT)\n",
      "\u001b[1;32m~\\Anaconda3\\lib\\site-packages\\theano\\configparser.py\u001b[0m in \u001b[0;36m<module>\u001b[1;34m()\u001b[0m\n\u001b[0;32m     84\u001b[0m      }\n\u001b[0;32m     85\u001b[0m )\n\u001b[1;32m---> 86\u001b[1;33m \u001b[0mtheano_cfg\u001b[0m\u001b[1;33m.\u001b[0m\u001b[0mread\u001b[0m\u001b[1;33m(\u001b[0m\u001b[0mconfig_files\u001b[0m\u001b[1;33m)\u001b[0m\u001b[1;33m\u001b[0m\u001b[0m\n\u001b[0m\u001b[0;32m     87\u001b[0m \u001b[1;31m# Having a raw version of the config around as well enables us to pass\u001b[0m\u001b[1;33m\u001b[0m\u001b[1;33m\u001b[0m\u001b[0m\n\u001b[0;32m     88\u001b[0m \u001b[1;31m# through config values that contain format strings.\u001b[0m\u001b[1;33m\u001b[0m\u001b[1;33m\u001b[0m\u001b[0m\n",
      "\u001b[1;32m~\\Anaconda3\\lib\\configparser.py\u001b[0m in \u001b[0;36mread\u001b[1;34m(self, filenames, encoding)\u001b[0m\n\u001b[0;32m    695\u001b[0m             \u001b[1;32mtry\u001b[0m\u001b[1;33m:\u001b[0m\u001b[1;33m\u001b[0m\u001b[0m\n\u001b[0;32m    696\u001b[0m                 \u001b[1;32mwith\u001b[0m \u001b[0mopen\u001b[0m\u001b[1;33m(\u001b[0m\u001b[0mfilename\u001b[0m\u001b[1;33m,\u001b[0m \u001b[0mencoding\u001b[0m\u001b[1;33m=\u001b[0m\u001b[0mencoding\u001b[0m\u001b[1;33m)\u001b[0m \u001b[1;32mas\u001b[0m \u001b[0mfp\u001b[0m\u001b[1;33m:\u001b[0m\u001b[1;33m\u001b[0m\u001b[0m\n\u001b[1;32m--> 697\u001b[1;33m                     \u001b[0mself\u001b[0m\u001b[1;33m.\u001b[0m\u001b[0m_read\u001b[0m\u001b[1;33m(\u001b[0m\u001b[0mfp\u001b[0m\u001b[1;33m,\u001b[0m \u001b[0mfilename\u001b[0m\u001b[1;33m)\u001b[0m\u001b[1;33m\u001b[0m\u001b[0m\n\u001b[0m\u001b[0;32m    698\u001b[0m             \u001b[1;32mexcept\u001b[0m \u001b[0mOSError\u001b[0m\u001b[1;33m:\u001b[0m\u001b[1;33m\u001b[0m\u001b[0m\n\u001b[0;32m    699\u001b[0m                 \u001b[1;32mcontinue\u001b[0m\u001b[1;33m\u001b[0m\u001b[0m\n",
      "\u001b[1;32m~\\Anaconda3\\lib\\configparser.py\u001b[0m in \u001b[0;36m_read\u001b[1;34m(self, fp, fpname)\u001b[0m\n\u001b[0;32m   1078\u001b[0m                 \u001b[1;31m# no section header in the file?\u001b[0m\u001b[1;33m\u001b[0m\u001b[1;33m\u001b[0m\u001b[0m\n\u001b[0;32m   1079\u001b[0m                 \u001b[1;32melif\u001b[0m \u001b[0mcursect\u001b[0m \u001b[1;32mis\u001b[0m \u001b[1;32mNone\u001b[0m\u001b[1;33m:\u001b[0m\u001b[1;33m\u001b[0m\u001b[0m\n\u001b[1;32m-> 1080\u001b[1;33m                     \u001b[1;32mraise\u001b[0m \u001b[0mMissingSectionHeaderError\u001b[0m\u001b[1;33m(\u001b[0m\u001b[0mfpname\u001b[0m\u001b[1;33m,\u001b[0m \u001b[0mlineno\u001b[0m\u001b[1;33m,\u001b[0m \u001b[0mline\u001b[0m\u001b[1;33m)\u001b[0m\u001b[1;33m\u001b[0m\u001b[0m\n\u001b[0m\u001b[0;32m   1081\u001b[0m                 \u001b[1;31m# an option line?\u001b[0m\u001b[1;33m\u001b[0m\u001b[1;33m\u001b[0m\u001b[0m\n\u001b[0;32m   1082\u001b[0m                 \u001b[1;32melse\u001b[0m\u001b[1;33m:\u001b[0m\u001b[1;33m\u001b[0m\u001b[0m\n",
      "\u001b[1;31mMissingSectionHeaderError\u001b[0m: File contains no section headers.\nfile: 'C:\\\\Users\\\\Euno/.theanorc', line: 1\n'ï»¿[global]\\n'"
     ]
    }
   ],
   "source": [
    "import numpy as np\n",
    "import tensorflow as tf\n",
    "import matplotlib.pyplot as plt\n",
    "import keras\n",
    "\n",
    "import theano\n",
    "theano.config.device = 'gpu'\n",
    "theano.config.floatX = 'float32'\n",
    "from keras import layers\n",
    "from keras import models\n",
    "from keras import optimizers\n",
    "import time\n",
    "\n",
    "from sklearn.metrics import roc_curve, roc_auc_score\n",
    "\n",
    "from keras.applications import VGG16"
   ]
  },
  {
   "cell_type": "code",
   "execution_count": 3,
   "metadata": {},
   "outputs": [
    {
     "ename": "NameError",
     "evalue": "name 'theano' is not defined",
     "output_type": "error",
     "traceback": [
      "\u001b[1;31m---------------------------------------------------------------------------\u001b[0m",
      "\u001b[1;31mNameError\u001b[0m                                 Traceback (most recent call last)",
      "\u001b[1;32m<ipython-input-3-062139300b09>\u001b[0m in \u001b[0;36m<module>\u001b[1;34m()\u001b[0m\n\u001b[1;32m----> 1\u001b[1;33m \u001b[0mtheano\u001b[0m\u001b[1;33m.\u001b[0m\u001b[0mconfig\u001b[0m\u001b[1;33m.\u001b[0m\u001b[0mdevice\u001b[0m \u001b[1;33m=\u001b[0m \u001b[1;34m'gpu'\u001b[0m\u001b[1;33m\u001b[0m\u001b[0m\n\u001b[0m\u001b[0;32m      2\u001b[0m \u001b[0mtheano\u001b[0m\u001b[1;33m.\u001b[0m\u001b[0mconfig\u001b[0m\u001b[1;33m.\u001b[0m\u001b[0mfloatX\u001b[0m \u001b[1;33m=\u001b[0m \u001b[1;34m'float32'\u001b[0m\u001b[1;33m\u001b[0m\u001b[0m\n\u001b[0;32m      3\u001b[0m \u001b[1;32mfrom\u001b[0m \u001b[0mtensorflow\u001b[0m\u001b[1;33m.\u001b[0m\u001b[0mpython\u001b[0m\u001b[1;33m.\u001b[0m\u001b[0mclient\u001b[0m \u001b[1;32mimport\u001b[0m \u001b[0mdevice_lib\u001b[0m\u001b[1;33m\u001b[0m\u001b[0m\n\u001b[0;32m      4\u001b[0m \u001b[0mprint\u001b[0m\u001b[1;33m(\u001b[0m\u001b[0mdevice_lib\u001b[0m\u001b[1;33m.\u001b[0m\u001b[0mlist_local_devices\u001b[0m\u001b[1;33m(\u001b[0m\u001b[1;33m)\u001b[0m\u001b[1;33m)\u001b[0m\u001b[1;33m\u001b[0m\u001b[0m\n",
      "\u001b[1;31mNameError\u001b[0m: name 'theano' is not defined"
     ]
    }
   ],
   "source": [
    "from tensorflow.python.client import device_lib\n",
    "print(device_lib.list_local_devices())\n"
   ]
  },
  {
   "cell_type": "code",
   "execution_count": 5,
   "metadata": {
    "collapsed": true
   },
   "outputs": [],
   "source": [
    "import cv2, glob\n",
    "\n",
    "def scaleRadius(img,scale):\n",
    "    x=img[img.shape[0]/2,:,:].sum(1)\n",
    "    r=(x>x.mean()/10).sum()/2\n",
    "    s=scale * 1.0/r\n",
    "    returncv2.resize(img,(0,0),fx=s,fy=s)\n",
    "    \n",
    "scale=300\n",
    "for f in glob.glob(\"train/*.jpeg\")+glob.glob(\"test/*.jpeg\"):\n",
    "    try:\n",
    "        a=cv2.imread(f)\n",
    "        #scaleimgtoagivenradius\n",
    "        a=scaleRadius(a,scale)\n",
    "        #subtractlocalmeancolor\n",
    "        a=cv2.addWeighted(a,4,cv2.GaussianBlur(a,(0,0),scale/30), -4, 128)\n",
    "        \n",
    "    #remove outer 10%\n",
    "        b = np.zeros(a.shape)\n",
    "        cv2.circle(b,(a.shape[1]/2,a.shape[0]/2), int(scale* 0.9),(1,1,1), -1,8,0)\n",
    "        a = a* b+128*(1-b)\n",
    "        cv2.imwrite(str(scale)+\"_\"+f,a)\n",
    "    except:\n",
    "        print(f)"
   ]
  },
  {
   "cell_type": "markdown",
   "metadata": {},
   "source": [
    "## 3. Building library\n"
   ]
  },
  {
   "cell_type": "code",
   "execution_count": 1,
   "metadata": {},
   "outputs": [
    {
     "name": "stdout",
     "output_type": "stream",
     "text": [
      "[name: \"/cpu:0\"\n",
      "device_type: \"CPU\"\n",
      "memory_limit: 268435456\n",
      "locality {\n",
      "}\n",
      "incarnation: 2333075563438551830\n",
      "]\n"
     ]
    }
   ],
   "source": [
    "from tensorflow.python.client import device_lib\n",
    "print(device_lib.list_local_devices())"
   ]
  },
  {
   "cell_type": "code",
   "execution_count": 4,
   "metadata": {},
   "outputs": [
    {
     "name": "stdout",
     "output_type": "stream",
     "text": [
      "_________________________________________________________________\n",
      "Layer (type)                 Output Shape              Param #   \n",
      "=================================================================\n",
      "vgg16 (Model)                (None, 4, 4, 512)         14714688  \n",
      "_________________________________________________________________\n",
      "flatten_1 (Flatten)          (None, 8192)              0         \n",
      "_________________________________________________________________\n",
      "dense_1 (Dense)              (None, 256)               2097408   \n",
      "_________________________________________________________________\n",
      "dense_2 (Dense)              (None, 1)                 257       \n",
      "=================================================================\n",
      "Total params: 16,812,353\n",
      "Trainable params: 16,812,353\n",
      "Non-trainable params: 0\n",
      "_________________________________________________________________\n"
     ]
    }
   ],
   "source": [
    "# Training parameters\n",
    "batch_size = 32\n",
    "epochs = 10\n",
    "steps_per_epoch = 39 \n",
    "validation_steps = 13\n",
    "image_height = 150\n",
    "image_width = 150 \n",
    "\n",
    "conv_base = VGG16(weights='imagenet',\n",
    "                  include_top=False,\n",
    "                  input_shape=(image_height, image_width, 3))\n",
    "\n",
    "model = models.Sequential()\n",
    "model.add(conv_base)\n",
    "model.add(layers.Flatten())\n",
    "model.add(layers.Dense(256, activation='relu'))\n",
    "model.add(layers.Dense(1, activation='sigmoid'))\n",
    "\n",
    "#show model layers and parameters\n",
    "model.summary()"
   ]
  },
  {
   "cell_type": "code",
   "execution_count": 5,
   "metadata": {},
   "outputs": [
    {
     "name": "stdout",
     "output_type": "stream",
     "text": [
      "number of trainable weights 30\n",
      "this is the number of trainable weights\n",
      "number of trainable weights 4\n"
     ]
    }
   ],
   "source": [
    "print('number of trainable weights', len(model.trainable_weights))\n",
    "conv_base.trainable = False\n",
    "print('this is the number of trainable weights')\n",
    "print('number of trainable weights', len(model.trainable_weights))"
   ]
  },
  {
   "cell_type": "markdown",
   "metadata": {},
   "source": []
  },
  {
   "cell_type": "code",
   "execution_count": 6,
   "metadata": {
    "collapsed": true
   },
   "outputs": [],
   "source": [
    "model.compile(loss='binary_crossentropy',\n",
    "              optimizer=optimizers.RMSprop(lr=1e-4), #learning rate\n",
    "              metrics=['acc'])"
   ]
  },
  {
   "cell_type": "markdown",
   "metadata": {},
   "source": [
    "## 4. Data preprocessing\n",
    "minimi on että on otsikko"
   ]
  },
  {
   "cell_type": "code",
   "execution_count": 8,
   "metadata": {},
   "outputs": [
    {
     "name": "stdout",
     "output_type": "stream",
     "text": [
      "Found 1729 images belonging to 2 classes.\n",
      "Found 749 images belonging to 2 classes.\n"
     ]
    }
   ],
   "source": [
    "from keras.preprocessing.image import ImageDataGenerator\n",
    "\n",
    "train_dir = \"dataset2\\\\train\"\n",
    "validation_dir = \"dataset2\\\\validation\"\n",
    "test_dir = \"dataset2\\\\test\"\n",
    "\n",
    "# All images will be rescaled by 1./255\n",
    "train_datagen = ImageDataGenerator(\n",
    "    rescale=1./255,\n",
    "    zoom_range=0.2,\n",
    "    horizontal_flip=True,\n",
    "    fill_mode='nearest')\n",
    "\n",
    "validation_datagen = validation_datagen = ImageDataGenerator(\n",
    "    rescale=1./255,\n",
    "    zoom_range=0.2,\n",
    "    horizontal_flip=True,\n",
    "    fill_mode='nearest')\n",
    "\n",
    "#test data will not be manipulated. It's test as is.\n",
    "test_datagen = ImageDataGenerator(rescale=1./255)\n",
    "\n",
    "#training generator using the training data\n",
    "train_generator = train_datagen.flow_from_directory(\n",
    "        # This is the target directory\n",
    "        train_dir,\n",
    "        # All images will be resized to 150x150\n",
    "        target_size=(image_height, image_width),\n",
    "        batch_size=32,\n",
    "        # Since we use binary_crossentropy loss, we need binary labels\n",
    "        class_mode='binary')\n",
    "\n",
    "#validation generator for to se how the model is training\n",
    "validation_generator = validation_datagen.flow_from_directory(\n",
    "        validation_dir,\n",
    "        target_size=(image_height, image_width),\n",
    "        batch_size=32,\n",
    "        class_mode='binary')\n",
    "\n",
    "\n",
    "model.save('case 2 combined.h5')"
   ]
  },
  {
   "cell_type": "code",
   "execution_count": 9,
   "metadata": {},
   "outputs": [
    {
     "name": "stdout",
     "output_type": "stream",
     "text": [
      "data batch shape: (32, 150, 150, 3)\n",
      "labels batch shape: (32,)\n"
     ]
    }
   ],
   "source": [
    "#testing testing testing\n",
    "for data_batch, labels_batch in train_generator:\n",
    "    print('data batch shape:', data_batch.shape)\n",
    "    print('labels batch shape:', labels_batch.shape)\n",
    "    break"
   ]
  },
  {
   "cell_type": "markdown",
   "metadata": {},
   "source": [
    "## 5. Modeling"
   ]
  },
  {
   "cell_type": "code",
   "execution_count": 10,
   "metadata": {},
   "outputs": [
    {
     "name": "stdout",
     "output_type": "stream",
     "text": [
      "Epoch 1/20\n",
      "39/39 [==============================] - 474s 12s/step - loss: 0.6212 - acc: 0.6857 - val_loss: 0.5870 - val_acc: 0.7063\n",
      "Epoch 2/20\n",
      "39/39 [==============================] - 371s 10s/step - loss: 0.5626 - acc: 0.7306 - val_loss: 0.6171 - val_acc: 0.6750\n",
      "Epoch 3/20\n",
      "39/39 [==============================] - 369s 9s/step - loss: 0.5440 - acc: 0.7364 - val_loss: 0.4691 - val_acc: 0.7688\n",
      "Epoch 4/20\n",
      "39/39 [==============================] - 337s 9s/step - loss: 0.5746 - acc: 0.7120 - val_loss: 0.4932 - val_acc: 0.7438\n",
      "Epoch 5/20\n",
      "39/39 [==============================] - 404s 10s/step - loss: 0.5365 - acc: 0.7220 - val_loss: 0.5021 - val_acc: 0.7447\n",
      "Epoch 6/20\n",
      "39/39 [==============================] - 376s 10s/step - loss: 0.5062 - acc: 0.7715 - val_loss: 0.5379 - val_acc: 0.7125\n",
      "Epoch 7/20\n",
      "39/39 [==============================] - 360s 9s/step - loss: 0.5786 - acc: 0.7272 - val_loss: 0.5185 - val_acc: 0.7250\n",
      "Epoch 8/20\n",
      "39/39 [==============================] - 444s 11s/step - loss: 0.5029 - acc: 0.7497 - val_loss: 0.5919 - val_acc: 0.6875\n",
      "Epoch 9/20\n",
      "39/39 [==============================] - 369s 9s/step - loss: 0.5294 - acc: 0.7444 - val_loss: 0.4813 - val_acc: 0.7688\n",
      "Epoch 10/20\n",
      "39/39 [==============================] - 363s 9s/step - loss: 0.5152 - acc: 0.7409 - val_loss: 0.4961 - val_acc: 0.7376\n",
      "Epoch 11/20\n",
      "39/39 [==============================] - 385s 10s/step - loss: 0.4945 - acc: 0.7556 - val_loss: 0.5645 - val_acc: 0.7063\n",
      "Epoch 12/20\n",
      "39/39 [==============================] - 378s 10s/step - loss: 0.4773 - acc: 0.7723 - val_loss: 0.4550 - val_acc: 0.7937\n",
      "Epoch 13/20\n",
      "39/39 [==============================] - 354s 9s/step - loss: 0.4847 - acc: 0.7619 - val_loss: 0.5527 - val_acc: 0.7125\n",
      "Epoch 14/20\n",
      "39/39 [==============================] - 325s 8s/step - loss: 0.5001 - acc: 0.7530 - val_loss: 0.4883 - val_acc: 0.7125\n",
      "Epoch 15/20\n",
      "39/39 [==============================] - 410s 11s/step - loss: 0.4603 - acc: 0.7771 - val_loss: 0.4661 - val_acc: 0.7447\n",
      "Epoch 16/20\n",
      "39/39 [==============================] - 366s 9s/step - loss: 0.4960 - acc: 0.7476 - val_loss: 0.5314 - val_acc: 0.7250\n",
      "Epoch 17/20\n",
      "39/39 [==============================] - 343s 9s/step - loss: 0.4833 - acc: 0.7707 - val_loss: 0.4886 - val_acc: 0.7312\n",
      "Epoch 18/20\n",
      "39/39 [==============================] - 346s 9s/step - loss: 0.4608 - acc: 0.7811 - val_loss: 0.5492 - val_acc: 0.7562\n",
      "Epoch 19/20\n",
      "39/39 [==============================] - 361s 9s/step - loss: 0.4563 - acc: 0.7715 - val_loss: 0.3934 - val_acc: 0.8438\n",
      "Epoch 20/20\n",
      "39/39 [==============================] - 357s 9s/step - loss: 0.4875 - acc: 0.7788 - val_loss: 0.4839 - val_acc: 0.7660\n",
      "Time elapsed: 7495.36 sec\n"
     ]
    }
   ],
   "source": [
    "tStart = time.time()\n",
    "\n",
    "#fitille mahdollisuus asettaa validaatioparametri. jos ei nouse enää korkeammalle, niin \n",
    "\n",
    "history = model.fit_generator(\n",
    "      train_generator,\n",
    "      steps_per_epoch=39, #\n",
    "      verbose = 1, # show\n",
    "      epochs=20,\n",
    "      validation_data=validation_generator,\n",
    "      validation_steps=5)\n",
    "\n",
    "tStop = time.time()\n",
    "tElapsed = tStop - tStart\n",
    "print('Time elapsed: {:.2f} sec'.format(tElapsed))"
   ]
  },
  {
   "cell_type": "code",
   "execution_count": 11,
   "metadata": {},
   "outputs": [
    {
     "name": "stdout",
     "output_type": "stream",
     "text": [
      "Elapset time 2.08 hours.\n",
      "Time perc epoch 2.50 minutes.\n"
     ]
    }
   ],
   "source": [
    "# fires etest with very few ecpos and small batch sizes\n",
    "print('Elapset time {:.2f} hours.'.format((tStop-tStart)/3600)) \n",
    "print('Time perc epoch {:.2f} minutes.'.format((tStop-tStart)/50/60))\n",
    "model.save('case2_run_2.h5') "
   ]
  },
  {
   "cell_type": "markdown",
   "metadata": {},
   "source": [
    "## Results"
   ]
  },
  {
   "cell_type": "code",
   "execution_count": 12,
   "metadata": {},
   "outputs": [
    {
     "data": {
      "image/png": "[encoded data removed]",
      "text/plain": [
       "<matplotlib.figure.Figure at 0x2185959a438>"
      ]
     },
     "metadata": {},
     "output_type": "display_data"
    },
    {
     "data": {
      "image/png": "[encoded data removed]",
      "text/plain": [
       "<matplotlib.figure.Figure at 0x21859721fd0>"
      ]
     },
     "metadata": {},
     "output_type": "display_data"
    }
   ],
   "source": [
    "acc = history.history['acc']\n",
    "val_acc = history.history['val_acc']\n",
    "loss = history.history['loss']\n",
    "val_loss = history.history['val_loss']\n",
    "\n",
    "epochs = range(len(acc))\n",
    "\n",
    "plt.figure()\n",
    "\n",
    "plt.plot(epochs, acc, 'bo', label='Training acc')\n",
    "plt.plot(epochs, val_acc, 'b', label='Validation acc')\n",
    "plt.title('Training and validation accuracy')\n",
    "plt.ylim([0, 1])\n",
    "plt.grid()\n",
    "plt.xlabel('Eporchs')\n",
    "plt.legend()\n",
    "\n",
    "plt.figure()\n",
    "\n",
    "plt.plot(epochs, loss, 'bo', label='Training loss')\n",
    "plt.plot(epochs, val_loss, 'b', label='Validation loss')\n",
    "plt.title('Training and validation loss')\n",
    "plt.ylim([0, 1])\n",
    "plt.grid()\n",
    "plt.xlabel('Eporchs')\n",
    "plt.legend()\n",
    "\n",
    "plt.show()"
   ]
  },
  {
   "cell_type": "markdown",
   "metadata": {},
   "source": [
    "## Test the model\n",
    "\n"
   ]
  },
  {
   "cell_type": "code",
   "execution_count": 13,
   "metadata": {},
   "outputs": [
    {
     "name": "stdout",
     "output_type": "stream",
     "text": [
      "Found 735 images belonging to 2 classes.\n"
     ]
    },
    {
     "data": {
      "text/plain": [
       "[0.46192447273504167, 0.79047618877320058]"
      ]
     },
     "execution_count": 13,
     "metadata": {},
     "output_type": "execute_result"
    }
   ],
   "source": [
    "test_generator = test_datagen.flow_from_directory(\n",
    "        test_dir,\n",
    "        target_size=(150, 150),\n",
    "        batch_size=20,\n",
    "        class_mode='binary')\n",
    "\n",
    "r = model.evaluate_generator(test_generator, steps=21)\n",
    "\n",
    "#loss and accuracy\n",
    "r"
   ]
  },
  {
   "cell_type": "markdown",
   "metadata": {},
   "source": [
    "## Predict the score"
   ]
  },
  {
   "cell_type": "code",
   "execution_count": 14,
   "metadata": {
    "collapsed": true
   },
   "outputs": [],
   "source": [
    "#initialize values\n",
    "y_true = np.zeros(735)\n",
    "y_score = np.zeros(735)\n",
    "sample_count = 735\n",
    "\n",
    "i = 0\n",
    "for inputs_batch, labels_batch in test_generator:\n",
    "    predicts_batch = model.predict(inputs_batch)\n",
    "    L = labels_batch.shape[0]\n",
    "    index = range(i, i + L)\n",
    "    y_true[index] = labels_batch.ravel()\n",
    "    y_score[index] = predicts_batch.ravel()\n",
    "    i = i + L\n",
    "    if i >= sample_count:\n",
    "        break"
   ]
  },
  {
   "cell_type": "markdown",
   "metadata": {},
   "source": [
    "## calculate ROC and AUC"
   ]
  },
  {
   "cell_type": "code",
   "execution_count": 15,
   "metadata": {},
   "outputs": [
    {
     "data": {
      "image/png": "[encoded data removed]",
      "text/plain": [
       "<matplotlib.figure.Figure at 0x218596d21d0>"
      ]
     },
     "metadata": {},
     "output_type": "display_data"
    },
    {
     "data": {
      "image/png": "[encoded data removed]",
      "text/plain": [
       "<matplotlib.figure.Figure at 0x21800054518>"
      ]
     },
     "metadata": {},
     "output_type": "display_data"
    }
   ],
   "source": [
    "fpr, tpr, thresholds = roc_curve(y_true, y_score)\n",
    "auc = roc_auc_score(y_true, y_score)\n",
    "\n",
    "#plotting the ROC / AOC \n",
    "plt.figure()\n",
    "plt.plot(fpr, tpr)\n",
    "plt.plot([0, 1]), [0, 1, '--']\n",
    "plt.grid()\n",
    "plt.xlabel('False Positive Rate')\n",
    "plt.ylabel('True Positive Rate')\n",
    "plt.title('Roc curve AUC = {:.3f}'.format(auc))\n",
    "plt.show()\n",
    "\n",
    "#plotting sensitivity and specificity\n",
    "plt.figure()\n",
    "plt.plot(thresholds, 1-fpr, label = 'specificity')\n",
    "plt.plot(thresholds, tpr, label = 'sensitivity')\n",
    "plt.legend()\n",
    "plt.grid()\n",
    "plt.xlabel('Threshold value')\n",
    "plt.show()"
   ]
  },
  {
   "cell_type": "code",
   "execution_count": 20,
   "metadata": {
    "collapsed": true
   },
   "outputs": [],
   "source": [
    "from sklearn.metrics import accuracy_score, precision_score, f1_score, confusion_matrix\n",
    "from sklearn.metrics import classification_report, recall_score\n",
    "from sklearn.metrics import precision_recall_curve\n",
    "from sklearn.metrics import average_precision_score"
   ]
  },
  {
   "cell_type": "code",
   "execution_count": 16,
   "metadata": {},
   "outputs": [
    {
     "data": {
      "text/plain": [
       "0.37"
      ]
     },
     "execution_count": 16,
     "metadata": {},
     "output_type": "execute_result"
    }
   ],
   "source": [
    "# select the threshold to maximize botth specifity and sensitivity\n",
    "th = 0.37\n",
    "th"
   ]
  },
  {
   "cell_type": "code",
   "execution_count": 22,
   "metadata": {
    "collapsed": true
   },
   "outputs": [],
   "source": [
    "#bulding the confusion matrix\n",
    "acc = accuracy_score(y_true, y_score > th)\n",
    "prec = precision_score(y_true, y_score > th)\n",
    "f1 = f1_score(y_true, y_score > th)\n",
    "recall = recall_score(y_true, y_score > th)\n",
    "\n",
    "#print('acc: {:,3f}'.format(acc))\n",
    "#print('prec: {:, 3f}',format(prec))\n",
    "#print('f1:   {:, 3f}',format(f1))\n",
    "#print('recc: {:, 3f}'.format(recall))"
   ]
  },
  {
   "cell_type": "code",
   "execution_count": 23,
   "metadata": {},
   "outputs": [
    {
     "name": "stdout",
     "output_type": "stream",
     "text": [
      "classification report\n",
      "             precision    recall  f1-score   support\n",
      "\n",
      "    Disease       0.54      0.76      0.63       209\n",
      "    Healthy       0.88      0.74      0.81       526\n",
      "\n",
      "avg / total       0.78      0.74      0.75       735\n",
      "\n"
     ]
    }
   ],
   "source": [
    "print('classification report')\n",
    "print(classification_report(y_true, y_score > th, labels = [1.0, 0.0], target_names = ['Disease', 'Healthy']))"
   ]
  },
  {
   "cell_type": "markdown",
   "metadata": {},
   "source": [
    "Recall diesase = sensistivity: 77%\n",
    "recall (Healthy) = specifity: 75%"
   ]
  },
  {
   "cell_type": "code",
   "execution_count": 24,
   "metadata": {},
   "outputs": [
    {
     "name": "stdout",
     "output_type": "stream",
     "text": [
      "                    Confusion matrix\n",
      "\n",
      "                     Positive Negative      Sum\n",
      "Predicted | Positive      158      137      295\n",
      "Condition | Negative       51      389      440\n",
      "                 Sum      209      526      735\n",
      "\n",
      "sensitivity 0.756\n",
      "specificity 0.740\n"
     ]
    }
   ],
   "source": [
    "tn, fp, fn, tp = confusion_matrix(y_true, y_score > th).ravel()\n",
    "\n",
    "print('                    Confusion matrix')\n",
    "print()\n",
    "print('                     Positive Negative      Sum')\n",
    "print('Predicted | Positive {:8} {:8} {:8}'.format(tp, fp, tp + fp))\n",
    "print('Condition | Negative {:8} {:8} {:8}'.format(fn, tn, fn + tn))\n",
    "print('                 Sum {:8} {:8} {:8}'.format(tp + fn, fp + tn, tp + fp + fn + tn))\n",
    "print()\n",
    "\n",
    "print('sensitivity {:.3f}'.format(tp/(tp+fn)))\n",
    "print('specificity {:.3f}'.format(tn/(tn+fp)))"
   ]
  },
  {
   "cell_type": "markdown",
   "metadata": {},
   "source": [
    "Sensitivity"
   ]
  }
 ],
 "metadata": {
  "kernelspec": {
   "display_name": "Python 3",
   "language": "python",
   "name": "python3"
  },
  "language_info": {
   "codemirror_mode": {
    "name": "ipython",
    "version": 3
   },
   "file_extension": ".py",
   "mimetype": "text/x-python",
   "name": "python",
   "nbconvert_exporter": "python",
   "pygments_lexer": "ipython3",
   "version": "3.6.3"
  }
 },
 "nbformat": 4,
 "nbformat_minor": 2
}
