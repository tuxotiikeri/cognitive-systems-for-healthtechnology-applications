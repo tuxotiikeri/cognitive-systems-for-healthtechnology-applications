{
 "cells": [
  {
   "cell_type": "code",
   "execution_count": 14,
   "metadata": {},
   "outputs": [
    {
     "name": "stdout",
     "output_type": "stream",
     "text": [
      "Epoch 1/20\n",
      "1000/1000 [==============================] - 1s 517us/step - loss: 2.3899 - acc: 0.1130\n",
      "Epoch 2/20\n",
      "1000/1000 [==============================] - 0s 31us/step - loss: 2.3534 - acc: 0.1190\n",
      "Epoch 3/20\n",
      "1000/1000 [==============================] - 0s 30us/step - loss: 2.3314 - acc: 0.1210\n",
      "Epoch 4/20\n",
      "1000/1000 [==============================] - 0s 27us/step - loss: 2.3372 - acc: 0.0950\n",
      "Epoch 5/20\n",
      "1000/1000 [==============================] - 0s 31us/step - loss: 2.3288 - acc: 0.0980\n",
      "Epoch 6/20\n",
      "1000/1000 [==============================] - 0s 30us/step - loss: 2.3227 - acc: 0.1070\n",
      "Epoch 7/20\n",
      "1000/1000 [==============================] - 0s 29us/step - loss: 2.3019 - acc: 0.1230\n",
      "Epoch 8/20\n",
      "1000/1000 [==============================] - 0s 29us/step - loss: 2.3154 - acc: 0.1110\n",
      "Epoch 9/20\n",
      "1000/1000 [==============================] - 0s 31us/step - loss: 2.3086 - acc: 0.1240\n",
      "Epoch 10/20\n",
      "1000/1000 [==============================] - 0s 31us/step - loss: 2.3159 - acc: 0.0940\n",
      "Epoch 11/20\n",
      "1000/1000 [==============================] - 0s 30us/step - loss: 2.3018 - acc: 0.1130\n",
      "Epoch 12/20\n",
      "1000/1000 [==============================] - 0s 28us/step - loss: 2.2985 - acc: 0.1140\n",
      "Epoch 13/20\n",
      "1000/1000 [==============================] - 0s 29us/step - loss: 2.3072 - acc: 0.0950\n",
      "Epoch 14/20\n",
      "1000/1000 [==============================] - 0s 30us/step - loss: 2.2967 - acc: 0.1190\n",
      "Epoch 15/20\n",
      "1000/1000 [==============================] - 0s 31us/step - loss: 2.2972 - acc: 0.1190\n",
      "Epoch 16/20\n",
      "1000/1000 [==============================] - 0s 29us/step - loss: 2.3044 - acc: 0.1080\n",
      "Epoch 17/20\n",
      "1000/1000 [==============================] - 0s 31us/step - loss: 2.2993 - acc: 0.1200\n",
      "Epoch 18/20\n",
      "1000/1000 [==============================] - 0s 31us/step - loss: 2.2960 - acc: 0.1140\n",
      "Epoch 19/20\n",
      "1000/1000 [==============================] - 0s 28us/step - loss: 2.2990 - acc: 0.1170\n",
      "Epoch 20/20\n",
      "1000/1000 [==============================] - 0s 28us/step - loss: 2.2878 - acc: 0.1310\n",
      "1000/1000 [==============================] - 0s 92us/step\n"
     ]
    }
   ],
   "source": [
    "import keras\n",
    "from keras.models import Sequential\n",
    "from keras.layers import Dense, Dropout, Activation\n",
    "from keras.optimizers import SGD\n",
    "\n",
    "#generate dummy data\n",
    "import numpy as np\n",
    "x_train = np.random.random((1000, 20))\n",
    "y_train = keras.utils.to_categorical(np.random.randint(10, size=(1000, 1)), num_classes=10)\n",
    "x_test = np.random.random((1000, 20))\n",
    "y_test = keras.utils.to_categorical(np.random.randint(10, size=(1000, 1)), num_classes=10)\n",
    "\n",
    "model = Sequential()\n",
    "#Dense(64) is a fully-connected layer with 64 hidden units.\n",
    "#in the first layer , you must specify the exptected input data shape:\n",
    "#here, 20-dimensional vectors.\n",
    "model.add(Dense(64, activation='relu', input_dim=20))\n",
    "model.add(Dropout(0.5))\n",
    "model.add(Dense(64, activation='relu'))\n",
    "model.add(Dropout(0.5))\n",
    "model.add(Dense(10, activation='softmax'))\n",
    "\n",
    "sgd = SGD(lr=0.01, decay=1e-6, momentum=0.9, nesterov=True)\n",
    "model.compile(loss='categorical_crossentropy',\n",
    "                optimizer=sgd,\n",
    "                metrics=['accuracy'])\n",
    "        \n",
    "model.fit(x_train, y_train,\n",
    "         epochs=20,\n",
    "         batch_size=128)\n",
    "score = model.evaluate(x_test, y_test, batch_size=128)"
   ]
  },
  {
   "cell_type": "code",
   "execution_count": 16,
   "metadata": {},
   "outputs": [
    {
     "data": {
      "text/plain": [
       "[2.304199851989746, 0.10999999988079071]"
      ]
     },
     "execution_count": 16,
     "metadata": {},
     "output_type": "execute_result"
    }
   ],
   "source": [
    "score"
   ]
  },
  {
   "cell_type": "raw",
   "metadata": {},
   "source": []
  }
 ],
 "metadata": {
  "kernelspec": {
   "display_name": "Python 3",
   "language": "python",
   "name": "python3"
  },
  "language_info": {
   "codemirror_mode": {
    "name": "ipython",
    "version": 3
   },
   "file_extension": ".py",
   "mimetype": "text/x-python",
   "name": "python",
   "nbconvert_exporter": "python",
   "pygments_lexer": "ipython3",
   "version": "3.6.3"
  }
 },
 "nbformat": 4,
 "nbformat_minor": 2
}
